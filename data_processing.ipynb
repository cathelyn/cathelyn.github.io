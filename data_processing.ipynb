{
 "cells": [
  {
   "cell_type": "code",
   "execution_count": 19,
   "id": "c15f35f4",
   "metadata": {},
   "outputs": [],
   "source": [
    "import pandas as pd"
   ]
  },
  {
   "cell_type": "code",
   "execution_count": 20,
   "id": "039e720c",
   "metadata": {},
   "outputs": [],
   "source": [
    "path_prefix = \"sources/\""
   ]
  },
  {
   "cell_type": "code",
   "execution_count": 45,
   "id": "0f97b32b",
   "metadata": {},
   "outputs": [],
   "source": [
    "columns_renaming = {\n",
    "    'Y': 'point_y',\n",
    "    'X': 'point_x',\n",
    "    'POINT_Y': 'point_y',\n",
    "    'POINT_X': 'point_x',\n",
    "    'rok': 'year',\n",
    "    'mesic': 'month',\n",
    "    'den': 'day',\n",
    "    'zavineni': 'caused_by',\n",
    "    'viditelnost': 'visibility',\n",
    "    'cas': 'time',\n",
    "    'hodina': 'hour',\n",
    "    'mesic_t': 'month_text',\n",
    "    'doba': 'day_night',\n",
    "    'den_v_tydnu': 'weekday',\n",
    "    'alkohol': 'alcohol',\n",
    "    'alkohol_vinik': 'alcohol_offender',\n",
    "    'hlavni_pricina': 'main_cause',\n",
    "    'srazka': 'collision_with',\n",
    "    'pricina': 'cause',\n",
    "    'stav_vozovky': 'road_condition',\n",
    "    'povetrnostni_podm': 'weather',\n",
    "    'rozhled': 'view_condition',\n",
    "    'misto_nehody': 'accident_place',\n",
    "    'druh_komun': 'road_type',\n",
    "    'usmrceno_os': 'no_casualties',\n",
    "    'tezce_zran_os': 'no_injured_major',\n",
    "    'lehce_zran_os': 'no_injured_minor',\n",
    "    'hmotna_skoda': 'material_damage_price',\n",
    "    'smrt': 'death',\n",
    "    'smrt_dny': 'days_to_death',\n",
    "    'vek_skupina': 'age_group',\n",
    "    'chodec_pohlavi': 'pedestrian_sex',\n",
    "    'pohlavi': 'sex',\n",
    "    'stav_chodce': 'pedestrian_condition',\n",
    "    'stav_ridic': 'driver_condition',\n",
    "    'ovliveni_ridice': 'driver_circumstances',\n",
    "    'chovani_chodce': 'pedestrian_behaviour',\n",
    "    'situace_nehody': 'accident_circumstances',\n",
    "    'prvni_pomoc': 'first_aid',\n",
    "    'nasledky_chodce': 'pedestrain_consequences',\n",
    "    'nasledek': 'consequences',\n",
    "    'nazev': 'location',\n",
    "    'druh_vozidla': 'vehicle_type',\n",
    "    'osoba': 'person',\n",
    "    'ozn_osoba': 'person_circumstances'\n",
    "\n",
    "    \n",
    "    \n",
    "    \n",
    "    \n",
    "    \n",
    "}"
   ]
  },
  {
   "cell_type": "code",
   "execution_count": 29,
   "id": "a09e7104",
   "metadata": {},
   "outputs": [],
   "source": [
    "sources = {}\n",
    "sources[\"bike_accidents\"] = pd.read_csv(\"sources/bike_accidents.csv\")\n",
    "sources[\"ped_accidents\"] = pd.read_csv(\"sources/pedestrian_accidents.csv\")\n",
    "sources[\"ped_crossings\"] = pd.read_csv(\"sources/pedestrian_crossings.csv\")\n",
    "sources[\"pub_trans_stops\"] = pd.read_csv(\"sources/public_transport_stops.csv\")\n",
    "sources[\"street_lights\"] = pd.read_csv(\"sources/street_lights.csv\")\n",
    "sources[\"street_slopes\"] = pd.read_csv(\"sources/street_slopes.csv\")\n",
    "sources[\"traffic_accidents\"] = pd.read_csv(\"sources/traffic_accidents.csv\", low_memory=False)"
   ]
  },
  {
   "cell_type": "code",
   "execution_count": 46,
   "id": "6324aaa0",
   "metadata": {},
   "outputs": [],
   "source": [
    "columns = [\"POINT_Y\", \"POINT_X\", \"rok\", \"mesic\", \"den\", \"zavineni\", \"viditelnost\", \"cas\", \"hodina\", \"mesic_t\", \"doba\", \"den_v_tydnu\", \"alkohol\", \"alkohol_vinik\", \"hlavni_pricina\", \"srazka\", \"pricina\", \"stav_vozovky\", \"povetrnostni_podm\", \"rozhled\", \"misto_nehody\", \"druh_komun\", \"usmrceno_os\", \"tezce_zran_os\", \"lehce_zran_os\", \"hmotna_skoda\", \"smrt\", \"smrt_dny\", \"vek_skupina\", \"chodec_pohlavi\", \"stav_chodce\", \"chovani_chodce\", \"situace_nehody\", \"prvni_pomoc\", \"nasledky_chodce\", \"nazev\"]\n",
    "ped_accidents_dict = sources[\"ped_accidents\"][columns].rename(columns=columns_renaming).fillna(\"unknown\").to_dict(orient=\"records\")\n",
    "with open(path_prefix + \"ped_accidents.js\", \"w\") as out:\n",
    "    out.write(\"export const pedestrian_accidents_json = \" + str(ped_accidents_dict))"
   ]
  },
  {
   "cell_type": "code",
   "execution_count": 47,
   "id": "b080157d",
   "metadata": {},
   "outputs": [],
   "source": [
    "columns = [\"POINT_Y\", \"POINT_X\", \"rok\", \"mesic\", \"den\", \"zavineni\", \"viditelnost\", \"cas\", \"hodina\", \"mesic_t\", \"doba\", \"den_v_tydnu\", \"alkohol\", \"alkohol_vinik\", \"hlavni_pricina\", \"srazka\", \"pricina\", \"stav_vozovky\", \"povetrnostni_podm\", \"rozhled\", \"misto_nehody\", \"druh_komun\", \"usmrceno_os\", \"tezce_zran_os\", \"lehce_zran_os\", \"hmotna_skoda\", \"smrt\", \"smrt_dny\", \"druh_vozidla\", \"stav_ridic\", \"ovlivneni_ridice\", \"osoba\", \"ozn_osoba\", \"pohlavi\", \"nasledek\"]\n",
    "traffic_accidents_dict = sources[\"traffic_accidents\"][columns].rename(columns=columns_renaming).fillna(\"unknown\").to_dict(orient=\"records\")\n",
    "with open(path_prefix + \"traffic_accidents.js\", \"w\") as out:\n",
    "    out.write(\"export const traffic_accidents_json = \" + str(traffic_accidents_dict))"
   ]
  },
  {
   "cell_type": "code",
   "execution_count": 48,
   "id": "6e2e55d7",
   "metadata": {},
   "outputs": [],
   "source": [
    "columns = [\"point_y\", \"point_x\", \"rok\", \"mesic\", \"den\", \"srazka\", \"pricina\", \"alkohol\", \"zavineni\", \"nasledky\", \"stav_vozovky\", \"povetrnostni_podm\", \"viditelnost\", \"rozhled\", \"misto_nehody\", \"druh_komun\", \"druh_vozidla\", \"stav_ridic\", \"ovlivneni_ridice\", \"osoba\", \"ozn_osoba\", \"pohlavi\", \"nasledek\", \"usmrceno_os\", \"tezce_zran_os\", \"lehce_zran_os\", \"hmotna_skoda\", \"cas\", \"hodina\", \"den_v_tydnu\", \"vek_skupina\", \"nazev\"]\n",
    "bike_accidents_dict = sources[\"bike_accidents\"][columns].rename(columns=columns_renaming).fillna(\"unknown\").to_dict(orient=\"records\")\n",
    "with open(path_prefix + \"bike_accidents.js\", \"w\") as out:\n",
    "    out.write(\"export const bike_accidents_json = \" + str(bike_accidents_dict))"
   ]
  },
  {
   "cell_type": "code",
   "execution_count": 25,
   "id": "688a9c7b",
   "metadata": {
    "scrolled": true
   },
   "outputs": [],
   "source": [
    "columns = [\"Y\", \"X\", \"datum_instalace\"]\n",
    "sources[\"street_lights\"][columns].to_json(path_prefix  + \"street_lights.json\", orient=\"records\")"
   ]
  },
  {
   "cell_type": "code",
   "execution_count": 26,
   "id": "20ecd9f6",
   "metadata": {},
   "outputs": [],
   "source": [
    "columns = [\"Y\", \"X\", \"stop_name\"]\n",
    "sources[\"pub_trans_stops\"][columns].to_json(path_prefix + \"pub_trans_stops.json\", orient=\"records\")"
   ]
  },
  {
   "cell_type": "code",
   "execution_count": null,
   "id": "49f02052",
   "metadata": {},
   "outputs": [],
   "source": []
  }
 ],
 "metadata": {
  "kernelspec": {
   "display_name": "Python 3 (ipykernel)",
   "language": "python",
   "name": "python3"
  },
  "language_info": {
   "codemirror_mode": {
    "name": "ipython",
    "version": 3
   },
   "file_extension": ".py",
   "mimetype": "text/x-python",
   "name": "python",
   "nbconvert_exporter": "python",
   "pygments_lexer": "ipython3",
   "version": "3.9.14"
  }
 },
 "nbformat": 4,
 "nbformat_minor": 5
}
