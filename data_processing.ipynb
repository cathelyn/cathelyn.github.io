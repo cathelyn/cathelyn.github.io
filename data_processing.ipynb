{
 "cells": [
  {
   "cell_type": "code",
   "execution_count": 83,
   "id": "c15f35f4",
   "metadata": {},
   "outputs": [],
   "source": [
    "import pandas as pd\n",
    "import numpy as np"
   ]
  },
  {
   "cell_type": "code",
   "execution_count": 84,
   "id": "d6ac2b11",
   "metadata": {},
   "outputs": [],
   "source": [
    "from docs.data_translation_tables.srazka_category import srazka_category"
   ]
  },
  {
   "cell_type": "code",
   "execution_count": 85,
   "id": "4d83ad7f",
   "metadata": {},
   "outputs": [],
   "source": [
    "from docs.data_translation_tables.pricina_category import pricina_category"
   ]
  },
  {
   "cell_type": "code",
   "execution_count": 86,
   "id": "5be25c1e",
   "metadata": {},
   "outputs": [],
   "source": [
    "#hlavni_pricina"
   ]
  },
  {
   "cell_type": "code",
   "execution_count": 87,
   "id": "dfb67ce5",
   "metadata": {},
   "outputs": [],
   "source": [
    "from docs.data_translation_tables.alkohol_category import alkohol_category"
   ]
  },
  {
   "cell_type": "code",
   "execution_count": 88,
   "id": "2cd80965",
   "metadata": {},
   "outputs": [],
   "source": [
    "#alkohol_vinik"
   ]
  },
  {
   "cell_type": "code",
   "execution_count": 89,
   "id": "362ba122",
   "metadata": {},
   "outputs": [],
   "source": [
    "from docs.data_translation_tables.zavineni_category import zavineni_category"
   ]
  },
  {
   "cell_type": "code",
   "execution_count": 90,
   "id": "b213cf5f",
   "metadata": {},
   "outputs": [],
   "source": [
    "#nasledky"
   ]
  },
  {
   "cell_type": "code",
   "execution_count": 91,
   "id": "ce048032",
   "metadata": {},
   "outputs": [],
   "source": [
    "from docs.data_translation_tables.stav_vozovky_category import stav_vozovky_category"
   ]
  },
  {
   "cell_type": "code",
   "execution_count": 92,
   "id": "dd82f491",
   "metadata": {},
   "outputs": [],
   "source": [
    "from docs.data_translation_tables.povetrnostni_podm_category import povetrnostni_podm_category"
   ]
  },
  {
   "cell_type": "code",
   "execution_count": 93,
   "id": "a7a3d7f8",
   "metadata": {},
   "outputs": [],
   "source": [
    "from docs.data_translation_tables.viditelnost_category import viditelnost_category"
   ]
  },
  {
   "cell_type": "code",
   "execution_count": 94,
   "id": "c206f5ba",
   "metadata": {},
   "outputs": [],
   "source": [
    "from docs.data_translation_tables.rozhled_category import rozhled_category"
   ]
  },
  {
   "cell_type": "code",
   "execution_count": 95,
   "id": "3c9af538",
   "metadata": {},
   "outputs": [],
   "source": [
    "from docs.data_translation_tables.misto_nehody_category import misto_nehody_category"
   ]
  },
  {
   "cell_type": "code",
   "execution_count": 96,
   "id": "3b0693fc",
   "metadata": {},
   "outputs": [],
   "source": [
    "from docs.data_translation_tables.druh_komun_category import druh_komun_category"
   ]
  },
  {
   "cell_type": "code",
   "execution_count": 97,
   "id": "0c6a318c",
   "metadata": {},
   "outputs": [],
   "source": [
    "#situace_nehody"
   ]
  },
  {
   "cell_type": "code",
   "execution_count": 98,
   "id": "5c412362",
   "metadata": {
    "scrolled": true
   },
   "outputs": [],
   "source": [
    "#druh_vozidla"
   ]
  },
  {
   "cell_type": "code",
   "execution_count": 99,
   "id": "0846efd0",
   "metadata": {
    "scrolled": true
   },
   "outputs": [],
   "source": [
    "#stav_ridic"
   ]
  },
  {
   "cell_type": "code",
   "execution_count": 100,
   "id": "d730306d",
   "metadata": {
    "scrolled": true
   },
   "outputs": [],
   "source": [
    "#stav_chodce"
   ]
  },
  {
   "cell_type": "code",
   "execution_count": 101,
   "id": "6430c0e9",
   "metadata": {},
   "outputs": [],
   "source": [
    "#chovani_chodce"
   ]
  },
  {
   "cell_type": "code",
   "execution_count": 102,
   "id": "5bf1d925",
   "metadata": {},
   "outputs": [],
   "source": [
    "#ovlivneni_ridice"
   ]
  },
  {
   "cell_type": "code",
   "execution_count": 103,
   "id": "9a039518",
   "metadata": {},
   "outputs": [],
   "source": [
    "#osoba"
   ]
  },
  {
   "cell_type": "code",
   "execution_count": 104,
   "id": "99f6af18",
   "metadata": {},
   "outputs": [],
   "source": [
    "#ozn_osoba"
   ]
  },
  {
   "cell_type": "code",
   "execution_count": 105,
   "id": "7edd5444",
   "metadata": {},
   "outputs": [],
   "source": [
    "#pohlavi"
   ]
  },
  {
   "cell_type": "code",
   "execution_count": 106,
   "id": "561ee2d0",
   "metadata": {},
   "outputs": [],
   "source": [
    "#chodec_pohlavi"
   ]
  },
  {
   "cell_type": "code",
   "execution_count": 107,
   "id": "52076780",
   "metadata": {},
   "outputs": [],
   "source": [
    "#nasledek"
   ]
  },
  {
   "cell_type": "code",
   "execution_count": 108,
   "id": "84aeec37",
   "metadata": {},
   "outputs": [],
   "source": [
    "#nasledky_chodce"
   ]
  },
  {
   "cell_type": "code",
   "execution_count": 109,
   "id": "25e2e104",
   "metadata": {},
   "outputs": [],
   "source": [
    "#prvni_pomoc"
   ]
  },
  {
   "cell_type": "code",
   "execution_count": 110,
   "id": "8f2e6004",
   "metadata": {},
   "outputs": [],
   "source": [
    "#usmrceno_os"
   ]
  },
  {
   "cell_type": "code",
   "execution_count": 111,
   "id": "b0c971d3",
   "metadata": {},
   "outputs": [],
   "source": [
    "#tezce_zran_os"
   ]
  },
  {
   "cell_type": "code",
   "execution_count": 112,
   "id": "a1348a8f",
   "metadata": {},
   "outputs": [],
   "source": [
    "#lehce_zran_os"
   ]
  },
  {
   "cell_type": "code",
   "execution_count": 113,
   "id": "7d0e5212",
   "metadata": {},
   "outputs": [],
   "source": [
    "#hmotna_skoda"
   ]
  },
  {
   "cell_type": "code",
   "execution_count": 114,
   "id": "7a04cd19",
   "metadata": {},
   "outputs": [],
   "source": [
    "#cas"
   ]
  },
  {
   "cell_type": "code",
   "execution_count": 115,
   "id": "f465be69",
   "metadata": {},
   "outputs": [],
   "source": [
    "#mesic"
   ]
  },
  {
   "cell_type": "code",
   "execution_count": 116,
   "id": "d8a84bbc",
   "metadata": {},
   "outputs": [],
   "source": [
    "#rok"
   ]
  },
  {
   "cell_type": "code",
   "execution_count": 117,
   "id": "44f06b86",
   "metadata": {},
   "outputs": [],
   "source": [
    "#den_v_tydnu"
   ]
  },
  {
   "cell_type": "code",
   "execution_count": 118,
   "id": "aa835e6c",
   "metadata": {},
   "outputs": [],
   "source": [
    "#doba"
   ]
  },
  {
   "cell_type": "code",
   "execution_count": 119,
   "id": "53751d51",
   "metadata": {},
   "outputs": [],
   "source": [
    "#vek_skupina"
   ]
  },
  {
   "cell_type": "code",
   "execution_count": 120,
   "id": "91dad15e",
   "metadata": {},
   "outputs": [],
   "source": [
    "#nazev"
   ]
  },
  {
   "cell_type": "code",
   "execution_count": 121,
   "id": "039e720c",
   "metadata": {},
   "outputs": [],
   "source": [
    "path_prefix = \"sources/\""
   ]
  },
  {
   "cell_type": "code",
   "execution_count": 184,
   "id": "0f97b32b",
   "metadata": {},
   "outputs": [],
   "source": [
    "columns_renaming = {\n",
    "    'Y': 'point_y',\n",
    "    'X': 'point_x',\n",
    "    'POINT_Y': 'point_y',\n",
    "    'POINT_X': 'point_x',\n",
    "    'srazka': 'collision_with',\n",
    "    'pricina': 'cause',\n",
    "    'hlavni_pricina': 'main_cause',\n",
    "    'alkohol': 'alcohol',\n",
    "    'alkohol_vinik': 'alcohol_offender',\n",
    "    'zavineni': 'caused_by',\n",
    "    'nasledky': 'consequences',\n",
    "    'stav_vozovky': 'road_condition',\n",
    "    'povetrnostni_podm': 'weather',\n",
    "    'viditelnost': 'visibility',\n",
    "    'rozhled': 'view_condition',\n",
    "    'misto_nehody': 'accident_place',\n",
    "    'druh_komun': 'road_type',\n",
    "    'situace_nehody': 'accident_circumstances',\n",
    "    'druh_vozidla': 'vehicle_type',\n",
    "    'stav_ridic': 'driver_condition',    \n",
    "    'stav_chodce': 'pedestrian_condition',    \n",
    "    'chovani_chodce': 'pedestrian_behaviour',\n",
    "    'ovliveni_ridice': 'driver_circumstances',\n",
    "    'osoba': 'person',\n",
    "    'ozn_osoba': 'person_circumstances',\n",
    "    'pohlavi': 'sex',\n",
    "    'chodec_pohlavi': 'pedestrian_sex',      \n",
    "    'nasledek': 'consequence',\n",
    "    'nasledky_chodce': 'pedestrain_consequences',\n",
    "    'prvni_pomoc': 'first_aid',\n",
    "    'usmrceno_os': 'no_casualties',\n",
    "    'tezce_zran_os': 'no_injured_major',\n",
    "    'lehce_zran_os': 'no_injured_minor',    \n",
    "    'hmotna_skoda': 'material_damage_price',    \n",
    "    'cas': 'time',\n",
    "    'hodina': 'hour', # redundant\n",
    "    'mesic_t': 'month_text', #redundant\n",
    "    'mesic': 'month',\n",
    "    'rok': 'year',\n",
    "    'den': 'day', #redundant\n",
    "    'den_v_tydnu': 'weekday',\n",
    "    'doba': 'day_night',    \n",
    "    'vek_skupina': 'age_group',  \n",
    "    'nazev': 'location',   \n",
    "    \n",
    "    'smrt': 'death', #zvytocne\n",
    "    'smrt_dny': 'days_to_death', #zbytocne\n",
    "   \n",
    "}"
   ]
  },
  {
   "cell_type": "code",
   "execution_count": null,
   "id": "dd0698ce",
   "metadata": {},
   "outputs": [],
   "source": []
  },
  {
   "cell_type": "code",
   "execution_count": 223,
   "id": "a09e7104",
   "metadata": {},
   "outputs": [],
   "source": [
    "sources = {}\n",
    "sources[\"bike_accidents\"] = pd.read_csv(\"sources/bike_accidents.csv\")\n",
    "sources[\"ped_accidents\"] = pd.read_csv(\"sources/pedestrian_accidents.csv\")\n",
    "sources[\"ped_crossings\"] = pd.read_csv(\"sources/pedestrian_crossings.csv\")\n",
    "sources[\"pub_trans_stops\"] = pd.read_csv(\"sources/public_transport_stops.csv\")\n",
    "sources[\"street_lights\"] = pd.read_csv(\"sources/street_lights.csv\")\n",
    "sources[\"street_slopes\"] = pd.read_csv(\"sources/street_slopes.csv\")\n",
    "sources[\"traffic_accidents\"] = pd.read_csv(\"sources/traffic_accidents.csv\", low_memory=False)"
   ]
  },
  {
   "cell_type": "code",
   "execution_count": 124,
   "id": "a7ca6705",
   "metadata": {},
   "outputs": [
    {
     "data": {
      "text/plain": [
       "array(['havárie', 'jiný druh nehody', 'srážka s chodcem',\n",
       "       'srážka s domácím zvířetem',\n",
       "       'srážka s jedoucím nekolejovým vozidlem', 'srážka s lesní zvěří',\n",
       "       'srážka s pevnou překážkou', 'srážka s tramvají',\n",
       "       'srážka s vlakem', 'srážka s vozidlem zaparkovaným, odstaveným'],\n",
       "      dtype=object)"
      ]
     },
     "execution_count": 124,
     "metadata": {},
     "output_type": "execute_result"
    }
   ],
   "source": [
    "srazka1 = sources['bike_accidents']['srazka'].unique()\n",
    "srazka2 = sources['traffic_accidents']['srazka'].unique()\n",
    "srazka3 = sources['ped_accidents']['srazka'].unique()\n",
    "\n",
    "srazka4 = np.concatenate((srazka1, srazka2, srazka3), axis=0)\n",
    "np.unique(srazka4)"
   ]
  },
  {
   "cell_type": "code",
   "execution_count": 125,
   "id": "72304c9d",
   "metadata": {},
   "outputs": [
    {
     "data": {
      "text/plain": [
       "array(['bezohledná, agresivní, neohleduplná jízda',\n",
       "       'chodci na vyznačeném přechodu', 'chyby při udání směru jízdy',\n",
       "       'defekt pneumatiky způsobený průrazem nebo náhlým únikem vzduchu',\n",
       "       'jiná technická závada (vztahuje se i na přípojná vozidla)',\n",
       "       'jiné nedání přednosti', 'jiný druh nepřiměřené rychlosti',\n",
       "       'jiný druh nesprávného předjíždění',\n",
       "       'jiný druh nesprávného způsobu jízdy',\n",
       "       'jízda (vjetí) jednosměrnou ulicí, silnicí (v protisměru)',\n",
       "       'jízda na \"červenou\" 3-barevného semaforu',\n",
       "       'jízda po nesprávné straně vozovky, vjetí do protisměru',\n",
       "       'nedodržení bezpečné vzdálenosti za vozidlem',\n",
       "       'nehoda při provádění služebního zákroku (pronásledování pachatele atd.)',\n",
       "       'nehoda v důsledku použití (policií) prostředků k násilnému zastavení vozidla (zastavovací pásy, zábrana, vozidlo atd.)',\n",
       "       'nepřizpůsobení rychlosti bočnímu, nárazovému větru (i při míjení, předjíždění vozidel)',\n",
       "       'nepřizpůsobení rychlosti dopravně technickému stavu vozovky (zatáčka, klesání, stoupání, šířka vozovky apod.)',\n",
       "       'nepřizpůsobení rychlosti intenzitě (hustotě) provozu',\n",
       "       'nepřizpůsobení rychlosti stavu vozovky (náledí, výtluky, bláto, mokrý povrch apod.)',\n",
       "       'nepřizpůsobení rychlosti viditelnosti (mlha, soumrak, jízda v noci na tlumená světla apod.)',\n",
       "       'nepřizpůsobení rychlosti vlastnostem vozidla a nákladu',\n",
       "       'nesprávné otáčení nebo couvání', 'nesprávné uložení nákladu',\n",
       "       'nezaviněná řidičem', 'nezvládnutí řízení vozidla',\n",
       "       'neúčinná nebo nefungující parkovací brzda',\n",
       "       'náhlé bezdůvodné snížení rychlosti jízdy, zabrzdění nebo zastavení',\n",
       "       'proti příkazu dopravní značky DEJ PŘEDNOST',\n",
       "       'proti příkazu dopravní značky STŮJ DEJ PŘEDNOST',\n",
       "       'protijedoucímu vozidlu při objíždění překážky',\n",
       "       'předjíždění bez dostatečného bočního odstupu',\n",
       "       'předjíždění vlevo vozidla odbočujícího vlevo',\n",
       "       'předjíždění vpravo',\n",
       "       'přehlédnutí již předjíždějícího souběžně jedoucího vozidla',\n",
       "       'překročení předepsané rychlosti stanovené pravidly',\n",
       "       'překročení rychlosti stanovené dopravní značkou',\n",
       "       'při odbočování vlevo',\n",
       "       'při odbočování vlevo souběžně jedoucímu vozidlu',\n",
       "       'při otáčení nebo couvání',\n",
       "       'při předjíždění došlo k ohrožení protijedoucího řidiče vozidla (špatný odhad vzdálenosti potřebné k předjetí apod.)',\n",
       "       'při předjíždění došlo k ohrožení předjížděného řidiče vozidla (vynucované zařazení, předjížděný řidič musel prudce brzdit, měnit směr jízdy apod.)',\n",
       "       'při přejíždění byla přejeta podélná čára souvislá',\n",
       "       'při přejíždění z jednoho jízdního pruhu do druhého',\n",
       "       'při vjíždění na silnici',\n",
       "       'při zařazování do proudu jedoucích vozidel ze stanice, místa zastavení nebo stání',\n",
       "       'samovolné rozjetí nezajištěného vozidla',\n",
       "       'tramvaji, která odbočuje',\n",
       "       'upadnutí, ztráta kola vozidla (i rezervního)',\n",
       "       'vjetí na nezpevněnou krajnici', 'vozidlu přijíždějícímu zprava',\n",
       "       'vyhýbání bez dostatečného bočního odstupu (vůle)',\n",
       "       'zablokování kol v důsledku mechanické závady vozidla (zadřený motor, převodovka, rozvodovka, spadlý řetěz apod.)',\n",
       "       'závada provozní brzdy', 'závada závěsu pro přívěs',\n",
       "       'závada řízení', 'řidič se plně nevěnoval řízení vozidla'],\n",
       "      dtype=object)"
      ]
     },
     "execution_count": 125,
     "metadata": {},
     "output_type": "execute_result"
    }
   ],
   "source": [
    "pricina1 = sources['bike_accidents']['pricina'].unique()\n",
    "pricina2 = sources['traffic_accidents']['pricina'].unique()\n",
    "pricina3 = sources['ped_accidents']['pricina'].unique()\n",
    "\n",
    "pricina4 = np.concatenate((pricina1, pricina2, pricina3), axis=0)\n",
    "np.unique(pricina4)"
   ]
  },
  {
   "cell_type": "code",
   "execution_count": 126,
   "id": "140e5107",
   "metadata": {},
   "outputs": [
    {
     "data": {
      "text/plain": [
       "array(['nedání přenosti v jízdě', 'nepřiměřená rychlost jízdy',\n",
       "       'nesprávný způsob jízdy', 'nesprávé předjíždění',\n",
       "       'nezaviněno řidičem', 'technická závada vozidla'], dtype=object)"
      ]
     },
     "execution_count": 126,
     "metadata": {},
     "output_type": "execute_result"
    }
   ],
   "source": [
    "# hlavni_pricina1 = sources['bike_accidents']['hlavni_pricina'].unique()\n",
    "hlavni_pricina2 = sources['traffic_accidents']['hlavni_pricina'].unique()\n",
    "hlavni_pricina3 = sources['ped_accidents']['hlavni_pricina'].unique()\n",
    "\n",
    "hlavni_pricina4 = np.concatenate((hlavni_pricina2, hlavni_pricina3), axis=0)\n",
    "np.unique(hlavni_pricina4)"
   ]
  },
  {
   "cell_type": "code",
   "execution_count": 127,
   "id": "595af664",
   "metadata": {},
   "outputs": [
    {
     "data": {
      "text/plain": [
       "array(['Ano, obsah alkoholu v krvi 1,5‰ a více',\n",
       "       'Ano, obsah alkoholu v krvi do 0,24 ‰',\n",
       "       'Ano, obsah alkoholu v krvi od 0,24‰ do 0,5‰',\n",
       "       'Ano, obsah alkoholu v krvi od 0,5‰ do 0,8‰',\n",
       "       'Ano, obsah alkoholu v krvi od 0,8‰ do 1,0‰',\n",
       "       'Ano, obsah alkoholu v krvi od 1,0‰ do 1,5‰', 'Ne', 'Nezjišťován',\n",
       "       'Pod vlivem alkoholu a drog', 'Pod vlivem drog'], dtype=object)"
      ]
     },
     "execution_count": 127,
     "metadata": {},
     "output_type": "execute_result"
    }
   ],
   "source": [
    "alkohol1 = sources['bike_accidents']['alkohol'].unique()\n",
    "alkohol2 = sources['traffic_accidents']['alkohol'].unique()\n",
    "alkohol3 = sources['ped_accidents']['alkohol'].unique()\n",
    "\n",
    "alkohol4 = np.concatenate((alkohol1, alkohol2, alkohol3), axis=0)\n",
    "np.unique(alkohol4)"
   ]
  },
  {
   "cell_type": "code",
   "execution_count": 128,
   "id": "ad1d2ab8",
   "metadata": {},
   "outputs": [
    {
     "data": {
      "text/plain": [
       "array(['ano', 'ne', 'nezjišťováno'], dtype=object)"
      ]
     },
     "execution_count": 128,
     "metadata": {},
     "output_type": "execute_result"
    }
   ],
   "source": [
    "#alkohol_vinik1\n",
    "alkohol_vinik2 = sources['traffic_accidents']['alkohol_vinik'].unique()\n",
    "alkohol_vinik3 = sources['ped_accidents']['alkohol_vinik'].unique()\n",
    "\n",
    "alkohol_vinik4 = np.concatenate((alkohol_vinik2, alkohol_vinik3), axis=0)\n",
    "np.unique(alkohol_vinik4)"
   ]
  },
  {
   "cell_type": "code",
   "execution_count": 129,
   "id": "ba2e3f56",
   "metadata": {},
   "outputs": [
    {
     "data": {
      "text/plain": [
       "array(['chodcem', 'jiné zaviněn', 'jiným účastníkem silničního provozu',\n",
       "       'lesní zvěří, domácím zvířectvem', 'technickou závadou vozidla',\n",
       "       'závadou komunikace', 'řidičem motorového vozidla',\n",
       "       'řidičem nemotorového vozidla'], dtype=object)"
      ]
     },
     "execution_count": 129,
     "metadata": {},
     "output_type": "execute_result"
    }
   ],
   "source": [
    "zavineni1 = sources['bike_accidents']['zavineni'].unique()\n",
    "zavineni2 = sources['traffic_accidents']['zavineni'].unique()\n",
    "zavineni3 = sources['ped_accidents']['zavineni'].unique()\n",
    "\n",
    "zavineni4 = np.concatenate((zavineni1, zavineni2, zavineni3), axis=0)\n",
    "np.unique(zavineni4)"
   ]
  },
  {
   "cell_type": "code",
   "execution_count": 130,
   "id": "ddc1254d",
   "metadata": {},
   "outputs": [
    {
     "data": {
      "text/plain": [
       "array(['nehoda s následky na životě nebo zdraví',\n",
       "       'nehoda pouze s hmotnou škodou'], dtype=object)"
      ]
     },
     "execution_count": 130,
     "metadata": {},
     "output_type": "execute_result"
    }
   ],
   "source": [
    "sources['bike_accidents']['nasledky'].unique()"
   ]
  },
  {
   "cell_type": "code",
   "execution_count": 131,
   "id": "0774e7fd",
   "metadata": {},
   "outputs": [
    {
     "data": {
      "text/plain": [
       "array(['jiný stav povrchu vozovky v době nehod', 'na vozovce je bláto',\n",
       "       'na vozovce je náledí, ujetý sníh - neposypané',\n",
       "       'na vozovce je náledí, ujetý sníh - posypané',\n",
       "       'na vozovce je rozlitý olej, nafta apod.',\n",
       "       'náhlá změna stavu vozovky (námraza na mostu, místní náledí)',\n",
       "       'povrch mokrý', 'povrch suchý, neznečistěný',\n",
       "       'povrch suchý, znečistěný (písek, prach, listí, štěrk atd.)',\n",
       "       'souvislá sněhová vrstva, rozbředlý sníh'], dtype=object)"
      ]
     },
     "execution_count": 131,
     "metadata": {},
     "output_type": "execute_result"
    }
   ],
   "source": [
    "stav_vozovky1 = sources['bike_accidents']['stav_vozovky'].unique()\n",
    "stav_vozovky2 = sources['traffic_accidents']['stav_vozovky'].unique()\n",
    "stav_vozovky3 = sources['ped_accidents']['stav_vozovky'].unique()\n",
    "\n",
    "stav_vozovky4 = np.concatenate((stav_vozovky1, stav_vozovky2, stav_vozovky3), axis=0)\n",
    "np.unique(stav_vozovky4)"
   ]
  },
  {
   "cell_type": "code",
   "execution_count": 132,
   "id": "1a6b9ed6",
   "metadata": {},
   "outputs": [
    {
     "data": {
      "text/plain": [
       "array(['déšť', 'jiné ztížené', 'mlha',\n",
       "       'na počátku deště, slabý déšť, mrholení apod.', 'neztížené',\n",
       "       'nárazový vítr (boční, vichřice apod.)', 'sněžení',\n",
       "       'tvoří se námraza, náledí'], dtype=object)"
      ]
     },
     "execution_count": 132,
     "metadata": {},
     "output_type": "execute_result"
    }
   ],
   "source": [
    "povetrnostni_podm1 = sources['bike_accidents']['povetrnostni_podm'].unique()\n",
    "povetrnostni_podm2 = sources['traffic_accidents']['povetrnostni_podm'].unique()\n",
    "povetrnostni_podm3 = sources['ped_accidents']['povetrnostni_podm'].unique()\n",
    "\n",
    "povetrnostni_podm4 = np.concatenate((povetrnostni_podm1, povetrnostni_podm2, povetrnostni_podm3), axis=0)\n",
    "np.unique(povetrnostni_podm4)"
   ]
  },
  {
   "cell_type": "code",
   "execution_count": 133,
   "id": "fde0eddc",
   "metadata": {},
   "outputs": [
    {
     "data": {
      "text/plain": [
       "array(['v noci - bez veřejného osvětlení, viditelnost nezhoršená vlivem povětrnostních podmínek',\n",
       "       'v noci - bez veřejného osvětlení, viditelnost zhoršená vlivem povětrnostních podmínek (mlha, déšť, sněžení apod.',\n",
       "       'v noci - s veřejným osvětlením, viditelnost nezhoršená vlivem povětrnostních podmínek',\n",
       "       'v noci - s veřejným osvětlením, zhoršená viditelnost vlivem povětrnostních podmínek (mlha, déšť, sněžení apod.)',\n",
       "       've dne, viditelnost nezhoršená vlivem povětrnostních podmínek',\n",
       "       've dne, zhoršená viditelnost (svítání, soumrak)',\n",
       "       've dne, zhoršená viditelnost vlivem povětrnostních podmínek (mlha, sněžení, déšť apod.)'],\n",
       "      dtype=object)"
      ]
     },
     "execution_count": 133,
     "metadata": {},
     "output_type": "execute_result"
    }
   ],
   "source": [
    "viditelnost1 = sources['bike_accidents']['viditelnost'].unique()\n",
    "viditelnost2 = sources['traffic_accidents']['viditelnost'].unique()\n",
    "viditelnost3 = sources['ped_accidents']['viditelnost'].unique()\n",
    "\n",
    "viditelnost4 = np.concatenate((viditelnost1, viditelnost2, viditelnost3), axis=0)\n",
    "np.unique(viditelnost4)"
   ]
  },
  {
   "cell_type": "code",
   "execution_count": 134,
   "id": "d506e7c2",
   "metadata": {},
   "outputs": [
    {
     "data": {
      "text/plain": [
       "array(['dobré', 'jiné špatn', 'výhled zakryt stojícím vozidlem',\n",
       "       'špatné - vlivem okolní zástavby (budovy, plné zábradlí apod.)',\n",
       "       'špatné - vlivem průběhu komunikace, nebo podélného profilu nebo trasování (nepřehledný vrchol stoupání, zářez komunikace apod.)',\n",
       "       'špatné - vlivem vegetace - přechodně (tráva, obilí apod.)',\n",
       "       'špatné - vlivem vegetace - trvale (stromy, keře apod.)'],\n",
       "      dtype=object)"
      ]
     },
     "execution_count": 134,
     "metadata": {},
     "output_type": "execute_result"
    }
   ],
   "source": [
    "rozhled1 = sources['bike_accidents']['rozhled'].unique()\n",
    "rozhled2 = sources['traffic_accidents']['rozhled'].unique()\n",
    "rozhled3 = sources['ped_accidents']['rozhled'].unique()\n",
    "\n",
    "rozhled4 = np.concatenate((rozhled1, rozhled2, rozhled3), axis=0)\n",
    "np.unique(rozhled4)"
   ]
  },
  {
   "cell_type": "code",
   "execution_count": 135,
   "id": "d2eb9ec8",
   "metadata": {},
   "outputs": [
    {
     "data": {
      "text/plain": [
       "array(['most, nadjezd, podjezd, tunel',\n",
       "       'parkoviště přiléhající ke komunikaci', 'přechod pro chodce',\n",
       "       'v blízkosti přechodu pro chodce (do vzdálenosti 20 m)',\n",
       "       'výjezd z parkoviště, lesní cesty apod. (pol.36=7,8)',\n",
       "       'zastávka autobusu, trolejbusu, tramvaje s\\xa0nástup. ostrůvkem',\n",
       "       'zastávka tramvaje, autobusu, trolejbusu bez nástup. ostrůvku',\n",
       "       'čerpadlo pohonných hmot',\n",
       "       'železniční přejezd nezabezpečený závorami ani světelným výstražným zařízením',\n",
       "       'železniční přejezd zabezpečený', 'žádné nebo žádné z uvedených'],\n",
       "      dtype=object)"
      ]
     },
     "execution_count": 135,
     "metadata": {},
     "output_type": "execute_result"
    }
   ],
   "source": [
    "misto_nehody1 = sources['bike_accidents']['misto_nehody'].unique()\n",
    "misto_nehody2 = sources['traffic_accidents']['misto_nehody'].unique()\n",
    "misto_nehody3 = sources['ped_accidents']['misto_nehody'].unique()\n",
    "\n",
    "misto_nehody4 = np.concatenate((misto_nehody1, misto_nehody2, misto_nehody3), axis=0)\n",
    "np.unique(misto_nehody4)"
   ]
  },
  {
   "cell_type": "code",
   "execution_count": 136,
   "id": "57f08ac6",
   "metadata": {},
   "outputs": [
    {
     "data": {
      "text/plain": [
       "array(['dálnice', 'komunikace místní',\n",
       "       'komunikace sledovaná (ve vybraných městech)',\n",
       "       'komunikace účelová - ostatní (parkoviště, odpočívky apod.',\n",
       "       'komunikace účelová - polní a lesní cesty atd.',\n",
       "       'silnice I. třídy', 'silnice II. třídy', 'silnice III. třídy',\n",
       "       'uzel (křižovatka sledovaná ve vybraných městech)'], dtype=object)"
      ]
     },
     "execution_count": 136,
     "metadata": {},
     "output_type": "execute_result"
    }
   ],
   "source": [
    "druh_komun1 = sources['bike_accidents']['druh_komun'].unique()\n",
    "druh_komun2 = sources['traffic_accidents']['druh_komun'].unique()\n",
    "druh_komun3 = sources['ped_accidents']['druh_komun'].unique()\n",
    "\n",
    "druh_komun4 = np.concatenate((druh_komun1, druh_komun2, druh_komun3), axis=0)\n",
    "np.unique(druh_komun4)"
   ]
  },
  {
   "cell_type": "code",
   "execution_count": 137,
   "id": "975cfc97",
   "metadata": {},
   "outputs": [
    {
     "data": {
      "text/plain": [
       "array(['přecházení mimo přechod (2O a více metrů od přechodu)',\n",
       "       'jiná situace', 'chůze, stání na chodníku',\n",
       "       'přecházení po vyznačeném přechodu', 'vstup chodce na signál STŮJ',\n",
       "       'vstup chodce do vozovky v blízkosti přechodu (cca do 2O m)',\n",
       "       'vstup chodce na signál VOLNO',\n",
       "       'přecházení těsně před nebo za vozidlem stojícím v zastávce',\n",
       "       'přecházení těsně před nebo za vozidlem parkujícím',\n",
       "       'chůze po správné straně', 'chůze po nesprávné straně'],\n",
       "      dtype=object)"
      ]
     },
     "execution_count": 137,
     "metadata": {},
     "output_type": "execute_result"
    }
   ],
   "source": [
    "sources['ped_accidents']['situace_nehody'].unique()"
   ]
  },
  {
   "cell_type": "code",
   "execution_count": 138,
   "id": "6e7067d4",
   "metadata": {},
   "outputs": [
    {
     "data": {
      "text/plain": [
       "array(['autobus', 'chodec',\n",
       "       'jiné motorové vozidlo (zemědělské, lesní, stavební stroje atd.)',\n",
       "       'jiné nemotorové vozidlo', 'jiný druh vozidl', 'jízdní kolo',\n",
       "       'malý motocykl (do 50 ccm)', 'moped',\n",
       "       'motocykl (včetně sidecarů, skútrů apod.)',\n",
       "       'nezjištěno, řidič ujel',\n",
       "       'nákladní automobil (včetně multikáry, autojeřábu, cisterny atd.)',\n",
       "       'nákladní automobil s návěsem', 'nákladní automobil s přívěsem',\n",
       "       'osobní automobil bez přívěsu', 'osobní automobil s přívěsem',\n",
       "       'povoz, jízda na koni', 'traktor (i s přívěsem)', 'tramvaj',\n",
       "       'trolejbus', 'vlak'], dtype=object)"
      ]
     },
     "execution_count": 138,
     "metadata": {},
     "output_type": "execute_result"
    }
   ],
   "source": [
    "druh_vozidla1 = sources['bike_accidents']['druh_vozidla'].unique()\n",
    "druh_vozidla2 = sources['traffic_accidents']['druh_vozidla'].unique()\n",
    "# druh_vozidla3 \n",
    "\n",
    "druh_vozidla4 = np.concatenate((druh_vozidla1, druh_vozidla2), axis=0)\n",
    "np.unique(druh_vozidla4)"
   ]
  },
  {
   "cell_type": "code",
   "execution_count": 139,
   "id": "a701a5cb",
   "metadata": {},
   "outputs": [
    {
     "data": {
      "text/plain": [
       "array(['dobrý -žádné nepříznivé okolnosti nebyly zjiště', 'invalid',\n",
       "       'jiný nepříznivý sta', 'nemoc, úraz apod.',\n",
       "       'pod vlivem alkoholu obsah alkoholu v krvi 1 ‰ a víc',\n",
       "       'pod vlivem alkoholu, obsah alkoholu v krvi do 0,99 ‰',\n",
       "       'pod vlivem léků, narkoti', 'pokus o sebevraždu, sebevražd',\n",
       "       'unaven, usnul, náhlá fyzická indispozic', 'unknown',\n",
       "       'řidič při jízdě zemřel (infarkt apod.'], dtype=object)"
      ]
     },
     "execution_count": 139,
     "metadata": {},
     "output_type": "execute_result"
    }
   ],
   "source": [
    "stav_ridic1 = sources['bike_accidents']['stav_ridic'].fillna('unknown').unique()\n",
    "stav_ridic2 = sources['traffic_accidents']['stav_ridic'].fillna('unknown').unique()\n",
    "#stav_ridic3\n",
    "\n",
    "\n",
    "stav_ridic4 = np.concatenate((stav_ridic1, stav_ridic2), axis=0)\n",
    "np.unique(stav_ridic4)"
   ]
  },
  {
   "cell_type": "code",
   "execution_count": 140,
   "id": "24cf3f4f",
   "metadata": {},
   "outputs": [
    {
     "data": {
      "text/plain": [
       "array(['nepozornost, roztržitost', 'nezjištěno',\n",
       "       'dobrý - žádné nepříznivé okolnosti nebyly zjištěny',\n",
       "       'jiný neuvedený stav',\n",
       "       'pod vlivem alkoholu, obsah alkoholu v krvi do 0,99 ‰,',\n",
       "       'pod vlivem léků, narkotik',\n",
       "       'pod vlivem alkoholu, obsah alkoholu v krvi 1 ‰ a více',\n",
       "       'fyzická indispozice (nemoc, nevolnost, snížená pohyblivost apod.)',\n",
       "       'invalida', 'pokus o sebevraždu, sebevražda'], dtype=object)"
      ]
     },
     "execution_count": 140,
     "metadata": {},
     "output_type": "execute_result"
    }
   ],
   "source": [
    "sources['ped_accidents']['stav_chodce'].unique()"
   ]
  },
  {
   "cell_type": "code",
   "execution_count": 141,
   "id": "88901136",
   "metadata": {},
   "outputs": [
    {
     "data": {
      "text/plain": [
       "array(['špatný odhad vzdálenosti a rychlosti vozidla',\n",
       "       'žádné z uvedených',\n",
       "       'náhlé vstoupení do vozovky z chodníku, krajnice',\n",
       "       'náraz do vozidla z boku', 'správné, přiměřené',\n",
       "       'zmatené, zbrklé, nerozhodné jednání',\n",
       "       'náhlé vstoupení do vozovky z nástupního nebo dělícího ostrůvku',\n",
       "       'náhlá změna směru chůze', 'hra dětí na vozovce'], dtype=object)"
      ]
     },
     "execution_count": 141,
     "metadata": {},
     "output_type": "execute_result"
    }
   ],
   "source": [
    "sources['ped_accidents']['chovani_chodce'].unique()"
   ]
  },
  {
   "cell_type": "code",
   "execution_count": 142,
   "id": "4043aa1c",
   "metadata": {},
   "outputs": [
    {
     "data": {
      "text/plain": [
       "array([ 0.,  1.,  2.,  3.,  4.,  5., 99.])"
      ]
     },
     "execution_count": 142,
     "metadata": {},
     "output_type": "execute_result"
    }
   ],
   "source": [
    "# 99 = unknown\n",
    "ovlivneni_ridice1 = sources['bike_accidents']['ovlivneni_ridice'].fillna(99).unique()\n",
    "ovlivneni_ridice2 = sources['traffic_accidents']['ovlivneni_ridice'].fillna(99).unique()\n",
    "# ovlivneni_ridice3\n",
    "\n",
    "ovlivneni_ridice4 = np.concatenate((ovlivneni_ridice1, ovlivneni_ridice2), axis=0)\n",
    "np.unique(ovlivneni_ridice4)"
   ]
  },
  {
   "cell_type": "code",
   "execution_count": 143,
   "id": "0cbcf414",
   "metadata": {},
   "outputs": [
    {
     "data": {
      "text/plain": [
       "array(['chodec',\n",
       "       'ostatní spolucestující (i v postranním vozíku motocyklu)',\n",
       "       'spolucestující na předním sedadle vedle řidiče nebo spolujezdec (cestující) na motocyklu, jízdním kole',\n",
       "       'spolucestující na zadním sedadle', 'unknown', 'řidič'],\n",
       "      dtype=object)"
      ]
     },
     "execution_count": 143,
     "metadata": {},
     "output_type": "execute_result"
    }
   ],
   "source": [
    "osoba1 = sources['bike_accidents']['osoba'].fillna('unknown').unique()\n",
    "osoba2 = sources['traffic_accidents']['osoba'].fillna('unknown').unique()\n",
    "# osoba3\n",
    "\n",
    "osoba4 = np.concatenate((osoba1, osoba2), axis=0)\n",
    "np.unique(osoba4)"
   ]
  },
  {
   "cell_type": "code",
   "execution_count": 144,
   "id": "f04d1ac0",
   "metadata": {},
   "outputs": [
    {
     "data": {
      "text/plain": [
       "array(['bez přilby (pouze u motocyklistů, příp. cyklistů)',\n",
       "       'bezpečnostní vak (airbag) v činnosti - osoba nepřipoutaná',\n",
       "       'bezpečnostní vak (airbag) v činnosti - osoba připoutaná',\n",
       "       'nepřipoutaný bezpečnostními pásy',\n",
       "       'připoutaný bezpečnostními pásy (i na zadních sedadlech)',\n",
       "       's přilbou (pouze u motocyklistů, příp. cyklistů)',\n",
       "       'sedící v dětské sedačce', 'unknown',\n",
       "       'vozidlo nevybaveno dětskou sedačkou'], dtype=object)"
      ]
     },
     "execution_count": 144,
     "metadata": {},
     "output_type": "execute_result"
    }
   ],
   "source": [
    "ozn_osoba1 = sources['bike_accidents']['ozn_osoba'].fillna('unknown').unique()\n",
    "ozn_osoba2 = sources['traffic_accidents']['ozn_osoba'].fillna('unknown').unique()\n",
    "# ozn_osoba3\n",
    "\n",
    "ozn_osoba4 = np.concatenate((ozn_osoba1, ozn_osoba2), axis=0)\n",
    "np.unique(ozn_osoba4)"
   ]
  },
  {
   "cell_type": "code",
   "execution_count": 145,
   "id": "324e6a71",
   "metadata": {},
   "outputs": [
    {
     "data": {
      "text/plain": [
       "array(['chlapec (do 15 let)', 'dívka (do 15 let)', 'muž', 'unknown',\n",
       "       'žena'], dtype=object)"
      ]
     },
     "execution_count": 145,
     "metadata": {},
     "output_type": "execute_result"
    }
   ],
   "source": [
    "pohlavi1 = sources['bike_accidents']['pohlavi'].fillna('unknown').unique()\n",
    "pohlavi2 = sources['traffic_accidents']['pohlavi'].fillna('unknown').unique()\n",
    "# pohlavi3\n",
    "\n",
    "pohlavi4 = np.concatenate((pohlavi1, pohlavi2), axis=0)\n",
    "np.unique(pohlavi4)"
   ]
  },
  {
   "cell_type": "code",
   "execution_count": 146,
   "id": "54c12795",
   "metadata": {},
   "outputs": [
    {
     "data": {
      "text/plain": [
       "array(['muž', 'chlapec (do 15 let)', 'žena', 'dívka (do 15 let)',\n",
       "       'unknown'], dtype=object)"
      ]
     },
     "execution_count": 146,
     "metadata": {},
     "output_type": "execute_result"
    }
   ],
   "source": [
    "sources['ped_accidents']['chodec_pohlavi'].fillna('unknown').unique()"
   ]
  },
  {
   "cell_type": "code",
   "execution_count": 147,
   "id": "eda59ebd",
   "metadata": {},
   "outputs": [
    {
     "data": {
      "text/plain": [
       "array(['bez zraněn', 'bez zranění', 'lehké zranění', 'těžké zranění',\n",
       "       'unknown', 'usmrcení'], dtype=object)"
      ]
     },
     "execution_count": 147,
     "metadata": {},
     "output_type": "execute_result"
    }
   ],
   "source": [
    "nasledek1 = sources['bike_accidents']['nasledek'].fillna('unknown').unique()\n",
    "nasledek2 = sources['traffic_accidents']['nasledek'].fillna('unknown').unique()\n",
    "# nasledek3\n",
    "\n",
    "nasledek4 = np.concatenate((nasledek1, nasledek2), axis=0)\n",
    "np.unique(nasledek4)"
   ]
  },
  {
   "cell_type": "code",
   "execution_count": 148,
   "id": "7f54b921",
   "metadata": {},
   "outputs": [
    {
     "data": {
      "text/plain": [
       "array(['bez zranění', 'lehké zranění', 'usmrcení', 'těžké zranění',\n",
       "       'unknown'], dtype=object)"
      ]
     },
     "execution_count": 148,
     "metadata": {},
     "output_type": "execute_result"
    }
   ],
   "source": [
    "sources['ped_accidents']['nasledky_chodce'].fillna('unknown').unique()"
   ]
  },
  {
   "cell_type": "code",
   "execution_count": 149,
   "id": "1db54b4d",
   "metadata": {},
   "outputs": [
    {
     "data": {
      "text/plain": [
       "array(['nebylo třeba poskytnout', 'vozidlem RZP',\n",
       "       'poskytnuta osádkou vozidel zúčast.na nehodě',\n",
       "       'leteckou záchrannou službou', 'unknown', 'jinou osobou'],\n",
       "      dtype=object)"
      ]
     },
     "execution_count": 149,
     "metadata": {},
     "output_type": "execute_result"
    }
   ],
   "source": [
    "sources['ped_accidents']['prvni_pomoc'].fillna('unknown').unique()"
   ]
  },
  {
   "cell_type": "code",
   "execution_count": 150,
   "id": "2407caf8",
   "metadata": {},
   "outputs": [
    {
     "data": {
      "text/plain": [
       "array([0, 1, 2, 3])"
      ]
     },
     "execution_count": 150,
     "metadata": {},
     "output_type": "execute_result"
    }
   ],
   "source": [
    "# do not need, only numbers\n",
    "usmrceno_os1 = sources['bike_accidents']['usmrceno_os'].unique()\n",
    "usmrceno_os2 = sources['traffic_accidents']['usmrceno_os'].unique()\n",
    "usmrceno_os3 = sources['ped_accidents']['usmrceno_os'].unique()\n",
    "\n",
    "usmrceno_os4 = np.concatenate((usmrceno_os1, usmrceno_os2, usmrceno_os3), axis=0)\n",
    "np.unique(usmrceno_os4)"
   ]
  },
  {
   "cell_type": "code",
   "execution_count": 151,
   "id": "bd61dc24",
   "metadata": {},
   "outputs": [
    {
     "data": {
      "text/plain": [
       "array([ 0,  1,  2,  3,  4, 14])"
      ]
     },
     "execution_count": 151,
     "metadata": {},
     "output_type": "execute_result"
    }
   ],
   "source": [
    "# do not need, only numbers, do not need\n",
    "tezce_zran_os1 = sources['bike_accidents']['tezce_zran_os'].unique()\n",
    "tezce_zran_os2 = sources['traffic_accidents']['tezce_zran_os'].unique()\n",
    "tezce_zran_os3 = sources['ped_accidents']['tezce_zran_os'].unique()\n",
    "\n",
    "tezce_zran_os4 = np.concatenate((tezce_zran_os1, tezce_zran_os2, tezce_zran_os3), axis=0)\n",
    "np.unique(tezce_zran_os4)"
   ]
  },
  {
   "cell_type": "code",
   "execution_count": 152,
   "id": "120693bc",
   "metadata": {},
   "outputs": [
    {
     "data": {
      "text/plain": [
       "array([ 0,  1,  2,  3,  4,  5,  6,  7,  8,  9, 12, 13, 19, 29])"
      ]
     },
     "execution_count": 152,
     "metadata": {},
     "output_type": "execute_result"
    }
   ],
   "source": [
    "# do not need, only numbers, do not need\n",
    "lehce_zran_os1 = sources['bike_accidents']['lehce_zran_os'].unique()\n",
    "lehce_zran_os2 = sources['traffic_accidents']['lehce_zran_os'].unique()\n",
    "lehce_zran_os3 = sources['ped_accidents']['lehce_zran_os'].unique()\n",
    "\n",
    "lehce_zran_os4 = np.concatenate((lehce_zran_os1, lehce_zran_os2, lehce_zran_os3), axis=0)\n",
    "np.unique(lehce_zran_os4)"
   ]
  },
  {
   "cell_type": "code",
   "execution_count": 153,
   "id": "f94dacb3",
   "metadata": {},
   "outputs": [
    {
     "data": {
      "text/plain": [
       "array([      0,       1,       2,       5,       6,      10,      15,\n",
       "            20,      25,      30,      31,      35,      40,      50,\n",
       "            51,      55,      60,      70,      80,      90,      95,\n",
       "           100,     105,     110,     115,     120,     125,     130,\n",
       "           140,     150,     160,     170,     180,     190,     200,\n",
       "           205,     210,     215,     220,     230,     240,     250,\n",
       "           260,     265,     280,     300,     305,     310,     320,\n",
       "           330,     340,     350,     351,     360,     370,     380,\n",
       "           390,     400,     405,     410,     420,     430,     440,\n",
       "           450,     480,     500,     510,     513,     520,     530,\n",
       "           550,     560,     570,     600,     610,     620,     650,\n",
       "           700,     750,     800,     810,     870,     900,     910,\n",
       "           930,    1000,    1010,    1020,    1050,    1100,    1200,\n",
       "          1210,    1500,    1700,    1900,    2000,    2350,    2500,\n",
       "          3000,    3100,    3380,    3500,    3700,    4000,    4100,\n",
       "          5000,    5100,    5200,    5500,    6000,    7000,    7800,\n",
       "          8000,    8500,    9000,    9500,   10000,   10100,   10300,\n",
       "         10500,   10600,   11000,   11500,   12000,   12500,   13000,\n",
       "         13500,   14000,   15000,   15100,   15500,   16000,   16500,\n",
       "         17000,   18000,   18300,   18500,   18900,   19000,   20000,\n",
       "         20300,   20400,   20500,   21000,   21500,   22000,   23000,\n",
       "         23100,   23900,   24000,   24100,   25000,   25500,   26000,\n",
       "         26500,   27000,   27300,   28000,   29000,   29100,   30000,\n",
       "         30100,   30500,   31000,   32000,   32500,   33000,   33100,\n",
       "         33200,   34000,   34100,   34900,   35000,   35100,   35200,\n",
       "         35500,   36000,   37000,   38000,   39000,   39200,   40000,\n",
       "         40100,   40500,   41000,   42000,   42900,   43000,   43100,\n",
       "         43900,   44000,   44100,   45000,   45500,   46000,   47000,\n",
       "         48000,   49000,   50000,   50100,   50200,   50500,   50700,\n",
       "         50900,   51000,   51300,   52000,   53000,   54000,   54100,\n",
       "         55000,   55500,   56000,   57000,   57500,   58000,   59000,\n",
       "         60000,   60500,   61000,   62000,   63000,   63900,   64000,\n",
       "         64100,   65000,   66000,   67000,   68000,   70000,   70500,\n",
       "         70800,   71000,   72000,   73000,   73900,   74000,   75000,\n",
       "         76000,   77000,   77400,   78000,   80000,   81000,   82000,\n",
       "         82900,   83000,   84000,   85000,   86000,   87000,   87500,\n",
       "         88000,   89000,   90000,   91000,   92000,   93000,   94000,\n",
       "         94100,   95000,   95800,   96000,   97000,   98000,   98500,\n",
       "         99000,  100000,  101000,  102000,  102900,  103000,  105000,\n",
       "        105500,  106000,  107000,  108000,  110000,  110500,  111000,\n",
       "        112000,  113000,  114000,  115000,  116000,  117000,  118000,\n",
       "        120000,  121000,  122000,  122500,  123000,  124000,  125000,\n",
       "        125500,  126000,  127000,  127300,  127500,  128000,  129000,\n",
       "        130000,  131000,  132000,  133000,  134000,  135000,  136000,\n",
       "        137000,  138000,  139000,  140000,  141000,  142000,  143000,\n",
       "        144000,  145000,  145500,  146000,  147000,  148000,  149000,\n",
       "        150000,  151000,  152000,  153000,  155000,  156000,  157000,\n",
       "        158000,  160000,  161000,  162000,  163000,  163500,  164000,\n",
       "        165000,  165400,  166000,  167000,  168000,  169000,  170000,\n",
       "        171000,  172000,  173000,  174000,  175000,  176000,  177000,\n",
       "        180000,  180500,  181000,  181500,  182000,  183000,  184000,\n",
       "        185000,  185500,  186000,  190000,  191000,  192000,  194000,\n",
       "        195000,  196000,  196300,  200000,  201000,  202000,  203000,\n",
       "        204000,  205000,  206000,  207000,  208000,  210000,  212000,\n",
       "        213000,  214000,  215000,  220000,  221000,  222000,  223000,\n",
       "        225000,  228000,  230000,  231000,  232000,  233000,  234000,\n",
       "        235000,  236000,  237000,  238000,  240000,  241000,  242000,\n",
       "        243000,  245000,  247000,  250000,  250500,  251000,  252000,\n",
       "        254000,  255000,  256000,  257000,  260000,  261000,  262000,\n",
       "        264000,  265000,  267000,  269000,  270000,  271000,  272000,\n",
       "        273000,  274000,  275000,  277000,  280000,  280500,  281000,\n",
       "        282000,  283000,  285000,  290000,  290500,  291000,  294000,\n",
       "        295000,  296000,  300000,  301000,  302000,  304000,  305000,\n",
       "        307000,  310000,  312000,  313000,  315000,  316000,  320000,\n",
       "        321000,  322000,  325000,  330000,  331000,  333000,  335000,\n",
       "        338000,  340000,  345000,  350000,  351000,  352000,  353000,\n",
       "        355000,  356000,  359000,  360000,  362500,  364000,  365000,\n",
       "        370000,  373000,  375000,  378000,  379000,  380000,  381000,\n",
       "        382000,  390000,  391000,  395000,  400000,  401000,  405000,\n",
       "        410000,  411000,  415000,  418000,  420000,  421000,  425000,\n",
       "        426000,  430000,  435000,  440000,  450000,  452000,  456000,\n",
       "        460000,  462000,  466000,  470000,  474000,  480000,  482000,\n",
       "        490000,  495000,  496000,  500000,  501000,  505000,  506000,\n",
       "        510000,  512000,  515600,  520000,  525000,  530000,  531000,\n",
       "        536000,  540000,  541000,  550000,  553000,  555000,  560000,\n",
       "        561000,  570000,  575000,  580000,  590000,  597000,  600000,\n",
       "        602000,  610000,  630000,  640000,  645000,  650000,  656000,\n",
       "        660000,  665000,  670000,  680000,  690000,  693000,  700000,\n",
       "        720000,  730000,  733000,  740000,  745000,  765000,  780000,\n",
       "        790000,  800000,  805000,  821000,  830000,  850000,  855000,\n",
       "        860000,  900000,  910000,  930000,  950000,  970000, 1000000,\n",
       "       1005000, 1020000, 1040000, 1050000, 1140000, 1360000, 1400000,\n",
       "       1510000, 1535000, 1550000, 1555000, 1580000, 1600000, 1642000,\n",
       "       1700000, 1790000, 1815000, 2010000, 2035000, 2100000, 2105000,\n",
       "       2200000, 2230000, 2350000, 2370000, 3220000, 3615000, 5131100,\n",
       "       5360000])"
      ]
     },
     "execution_count": 153,
     "metadata": {},
     "output_type": "execute_result"
    }
   ],
   "source": [
    "# do not need, only numbers, do not need\n",
    "hmotna_skoda1 = sources['bike_accidents']['hmotna_skoda'].unique()\n",
    "hmotna_skoda2 = sources['traffic_accidents']['hmotna_skoda'].unique()\n",
    "hmotna_skoda3 = sources['ped_accidents']['hmotna_skoda'].unique()\n",
    "\n",
    "hmotna_skoda4 = np.concatenate((hmotna_skoda1, hmotna_skoda2, hmotna_skoda3), axis=0)\n",
    "np.unique(hmotna_skoda4)"
   ]
  },
  {
   "cell_type": "code",
   "execution_count": 172,
   "id": "79b9da8c",
   "metadata": {},
   "outputs": [
    {
     "data": {
      "text/plain": [
       "array([2010, 2011, 2012, 2013, 2014, 2015, 2016, 2017, 2018, 2019, 2020,\n",
       "       2021])"
      ]
     },
     "execution_count": 172,
     "metadata": {},
     "output_type": "execute_result"
    }
   ],
   "source": [
    "rok1 = sources['bike_accidents']['rok'].unique()\n",
    "rok2 = sources['traffic_accidents']['rok'].unique()\n",
    "rok3 = sources['ped_accidents']['rok'].unique()\n",
    "\n",
    "rok4 = np.concatenate((rok1, rok2, rok3), axis=0)\n",
    "np.unique(rok4)\n",
    "\n"
   ]
  },
  {
   "cell_type": "code",
   "execution_count": 258,
   "id": "49ed78cc",
   "metadata": {},
   "outputs": [],
   "source": [
    "# add padding and convert to time format\n",
    "sources['bike_accidents']['minute'] = sources['bike_accidents']['cas'].astype(str).str.zfill(4).map(lambda x: x[2:])\n",
    "# sources['bike_accidents']['cas'] = pd.to_datetime(sources['bike_accidents']['cas'], format='%H%M', errors='raise')\n",
    "\n",
    "sources['traffic_accidents']['minute'] = sources['traffic_accidents']['cas'].astype(str).str.zfill(4).map(lambda x: x[2:])\n",
    "# sources['traffic_accidents']['cas'] = pd.to_datetime(sources['traffic_accidents']['cas'], format='%H%M', errors='ignore')\n",
    "\n",
    "sources['ped_accidents']['minute'] = sources['ped_accidents']['cas'].astype(str).str.zfill(4).map(lambda x: x[2:])\n",
    "# sources['ped_accidents']['cas'] = pd.to_datetime(sources['ped_accidents']['cas'], format='%H%M', errors='ignore')\n",
    "\n",
    "\n",
    "# build whole datetime and save it to datetime column\n",
    "\n",
    "sources['bike_accidents']['datetime'] = pd.to_datetime(\n",
    "    sources['bike_accidents'].rename(columns=columns_renaming)[\n",
    "        [\n",
    "            'year', \n",
    "            'month', \n",
    "            'day',\n",
    "            'hour',\n",
    "            'minute'\n",
    "        ]\n",
    "    ],\n",
    "    format=\"%Y%m%d%H%M\",\n",
    "    errors='raise'\n",
    ").astype('str')\n",
    "\n",
    "sources['traffic_accidents']['datetime'] = pd.to_datetime(\n",
    "    sources['traffic_accidents'].rename(columns=columns_renaming)[\n",
    "        [\n",
    "            'year', \n",
    "            'month', \n",
    "            'day',\n",
    "            'hour',\n",
    "            'minute'\n",
    "        ]\n",
    "    ],\n",
    "    format=\"%Y%m%d%H%M\",\n",
    "    errors='raise'\n",
    ").astype('str')\n",
    "\n",
    "sources['ped_accidents']['datetime'] = pd.to_datetime(\n",
    "    sources['ped_accidents'].rename(columns=columns_renaming)[\n",
    "        [\n",
    "            'year', \n",
    "            'month', \n",
    "            'day',\n",
    "            'hour',\n",
    "            'minute'\n",
    "        ]\n",
    "    ],\n",
    "    format=\"%Y%m%d%H%M\",\n",
    "    errors='raise'\n",
    ").astype('str')\n",
    "# otherwise nothing needed"
   ]
  },
  {
   "cell_type": "code",
   "execution_count": null,
   "id": "c1b71107",
   "metadata": {},
   "outputs": [],
   "source": []
  },
  {
   "cell_type": "code",
   "execution_count": 156,
   "id": "7369634c",
   "metadata": {},
   "outputs": [
    {
     "data": {
      "text/plain": [
       "array(['most, nadjezd, podjezd, tunel',\n",
       "       'parkoviště přiléhající ke komunikaci', 'přechod pro chodce',\n",
       "       'v blízkosti přechodu pro chodce (do vzdálenosti 20 m)',\n",
       "       'výjezd z parkoviště, lesní cesty apod. (pol.36=7,8)',\n",
       "       'zastávka autobusu, trolejbusu, tramvaje s\\xa0nástup. ostrůvkem',\n",
       "       'zastávka tramvaje, autobusu, trolejbusu bez nástup. ostrůvku',\n",
       "       'čerpadlo pohonných hmot',\n",
       "       'železniční přejezd nezabezpečený závorami ani světelným výstražným zařízením',\n",
       "       'železniční přejezd zabezpečený', 'žádné nebo žádné z uvedených'],\n",
       "      dtype=object)"
      ]
     },
     "execution_count": 156,
     "metadata": {},
     "output_type": "execute_result"
    }
   ],
   "source": [
    "misto_nehody1 = sources['bike_accidents']['misto_nehody'].unique()\n",
    "misto_nehody2 = sources['traffic_accidents']['misto_nehody'].unique()\n",
    "misto_nehody3 = sources['ped_accidents']['misto_nehody'].unique()\n",
    "\n",
    "misto_nehody4 = np.concatenate((misto_nehody1, misto_nehody2, misto_nehody3), axis=0)\n",
    "np.unique(misto_nehody4)"
   ]
  },
  {
   "cell_type": "code",
   "execution_count": 157,
   "id": "0b6ece9f",
   "metadata": {},
   "outputs": [],
   "source": [
    "# do I need the table for months?"
   ]
  },
  {
   "cell_type": "code",
   "execution_count": 158,
   "id": "f5344ba4",
   "metadata": {},
   "outputs": [
    {
     "data": {
      "text/plain": [
       "array(['neděle', 'čtvrtek', 'středa', 'úterý', 'pondělí', 'pátek',\n",
       "       'sobota'], dtype=object)"
      ]
     },
     "execution_count": 158,
     "metadata": {},
     "output_type": "execute_result"
    }
   ],
   "source": [
    "# do I need the table for weekdays?\n",
    "sources['bike_accidents']['den_v_tydnu'].fillna(\"unknown\").astype(str).unique()"
   ]
  },
  {
   "cell_type": "code",
   "execution_count": 159,
   "id": "2b2a20a2",
   "metadata": {},
   "outputs": [
    {
     "data": {
      "text/plain": [
       "array(['0-6', '12-15', '16-18', '19-24', '24-32', '33-44', '45-60',\n",
       "       '61-70', '7-11', '71 a více', 'unknown'], dtype=object)"
      ]
     },
     "execution_count": 159,
     "metadata": {},
     "output_type": "execute_result"
    }
   ],
   "source": [
    "vek_skupina1 = sources['bike_accidents']['vek_skupina'].fillna('unknown').unique()\n",
    "# vek_skupina2\n",
    "vek_skupina3 = sources['ped_accidents']['vek_skupina'].fillna('unknown').unique()\n",
    "\n",
    "vek_skupina4 = np.concatenate((vek_skupina1, vek_skupina3), axis=0)\n",
    "np.unique(vek_skupina4)"
   ]
  },
  {
   "cell_type": "code",
   "execution_count": 160,
   "id": "40de274b",
   "metadata": {},
   "outputs": [
    {
     "data": {
      "text/plain": [
       "array(['0-6', '12-15', '16-18', '19-24', '24-32', '33-44', '45-60',\n",
       "       '61-70', '7-11', '71 a více', 'unknown'], dtype=object)"
      ]
     },
     "execution_count": 160,
     "metadata": {},
     "output_type": "execute_result"
    }
   ],
   "source": [
    "vek_skupina1 = sources['bike_accidents']['vek_skupina'].fillna('unknown').unique()\n",
    "# vek_skupina2\n",
    "vek_skupina3 = sources['ped_accidents']['vek_skupina'].fillna('unknown').unique()\n",
    "\n",
    "vek_skupina4 = np.concatenate((vek_skupina1, vek_skupina3), axis=0)\n",
    "np.unique(vek_skupina4)"
   ]
  },
  {
   "cell_type": "code",
   "execution_count": null,
   "id": "e3090309",
   "metadata": {},
   "outputs": [],
   "source": []
  },
  {
   "cell_type": "code",
   "execution_count": 161,
   "id": "fb66bec7",
   "metadata": {},
   "outputs": [
    {
     "data": {
      "text/plain": [
       "array(['neděle', 'čtvrtek', 'středa', 'úterý', 'pondělí', 'pátek',\n",
       "       'sobota'], dtype=object)"
      ]
     },
     "execution_count": 161,
     "metadata": {},
     "output_type": "execute_result"
    }
   ],
   "source": [
    "sources['bike_accidents']['den_v_tydnu'].fillna(\"unknown\").astype(str).unique()\n"
   ]
  },
  {
   "cell_type": "code",
   "execution_count": null,
   "id": "39caf7b4",
   "metadata": {},
   "outputs": [],
   "source": [
    "\n"
   ]
  },
  {
   "cell_type": "code",
   "execution_count": 162,
   "id": "dd8e7bc0",
   "metadata": {},
   "outputs": [
    {
     "data": {
      "text/plain": [
       "array(['Brno-Bosonohy', 'Brno-sever', 'Brno-Ivanovice',\n",
       "       'Brno-Královo Pole', 'Brno-střed', 'Brno-Komín', 'Brno-jih',\n",
       "       'Brno-Nový Lískovec', 'Brno-Žabovřesky', 'Brno-Kníničky',\n",
       "       'Brno-Líšeň', 'Brno-Maloměřice a Obřany', 'Brno-Slatina',\n",
       "       'Brno-Tuřany', 'Brno-Bystrc', 'Brno-Židenice', 'Brno-Kohoutovice',\n",
       "       'Brno-Bohunice', 'Brno-Černovice', 'Brno-Medlánky',\n",
       "       'Brno-Řečkovice a Mokrá Hora', 'Brno-Vinohrady',\n",
       "       'Brno-Starý Lískovec', 'Brno-Chrlice', 'Brno-Jehnice',\n",
       "       'Brno-Jundrov', 'Brno-Útěchov', 'Brno-Ořešín', 'Brno-Žebětín',\n",
       "       'unknown'], dtype=object)"
      ]
     },
     "execution_count": 162,
     "metadata": {},
     "output_type": "execute_result"
    }
   ],
   "source": [
    "\n",
    "sources['bike_accidents']['nazev'].fillna(\"unknown\").astype(str).unique()\n"
   ]
  },
  {
   "cell_type": "code",
   "execution_count": 163,
   "id": "3976faed",
   "metadata": {},
   "outputs": [],
   "source": [
    "# doba??? Ako zistit, co je den a co noc"
   ]
  },
  {
   "cell_type": "code",
   "execution_count": null,
   "id": "7164e20e",
   "metadata": {},
   "outputs": [],
   "source": []
  },
  {
   "cell_type": "code",
   "execution_count": 57,
   "id": "d58c5f28",
   "metadata": {},
   "outputs": [
    {
     "data": {
      "text/plain": [
       "array(['chodcem', 'jiné zaviněn', 'jiným účastníkem silničního provozu',\n",
       "       'lesní zvěří, domácím zvířectvem', 'technickou závadou vozidla',\n",
       "       'závadou komunikace', 'řidičem motorového vozidla',\n",
       "       'řidičem nemotorového vozidla'], dtype=object)"
      ]
     },
     "execution_count": 57,
     "metadata": {},
     "output_type": "execute_result"
    }
   ],
   "source": []
  },
  {
   "cell_type": "code",
   "execution_count": 58,
   "id": "2d35255d",
   "metadata": {},
   "outputs": [
    {
     "data": {
      "text/plain": [
       "array(['chlapec (do 15 let)', 'dívka (do 15 let)', 'muž', 'unknown',\n",
       "       'žena'], dtype=object)"
      ]
     },
     "execution_count": 58,
     "metadata": {},
     "output_type": "execute_result"
    }
   ],
   "source": [
    "pohlavi1 = sources['bike_accidents']['pohlavi'].fillna(\"unknown\").astype(str).unique()\n",
    "pohlavi2 = sources['traffic_accidents']['pohlavi'].fillna(\"unknown\").astype(str).unique()\n",
    "pohlavi3 = sources['ped_accidents']['chodec_pohlavi'].fillna(\"unknown\").astype(str).unique()\n",
    "\n",
    "pohlavi4 = np.concatenate((pohlavi1, pohlavi2, pohlavi3), axis=0)\n",
    "np.unique(pohlavi4)"
   ]
  },
  {
   "cell_type": "code",
   "execution_count": 259,
   "id": "6324aaa0",
   "metadata": {},
   "outputs": [],
   "source": [
    "columns = [\"POINT_Y\", \"POINT_X\", \"datetime\", \"zavineni\", \"viditelnost\", \"cas\", \"hodina\", \"mesic_t\", \"doba\", \"den_v_tydnu\", \"alkohol\", \"alkohol_vinik\", \"hlavni_pricina\", \"srazka\", \"pricina\", \"stav_vozovky\", \"povetrnostni_podm\", \"rozhled\", \"misto_nehody\", \"druh_komun\", \"usmrceno_os\", \"tezce_zran_os\", \"lehce_zran_os\", \"hmotna_skoda\", \"smrt\", \"smrt_dny\", \"vek_skupina\", \"chodec_pohlavi\", \"stav_chodce\", \"chovani_chodce\", \"situace_nehody\", \"prvni_pomoc\", \"nasledky_chodce\", \"nazev\"]\n",
    "ped_accidents_dict = sources[\"ped_accidents\"][columns].rename(\n",
    "    columns=columns_renaming\n",
    ").dropna(\n",
    "    subset=[\"point_x\", \"point_y\"]\n",
    ").fillna(\n",
    "    \"unknown\"\n",
    ").replace(\n",
    "    srazka_category\n",
    ").replace(\n",
    "    pricina_category\n",
    ").replace(\n",
    "    alkohol_category\n",
    ").replace(\n",
    "    zavineni_category\n",
    ").replace(\n",
    "    stav_vozovky_category\n",
    ").replace(\n",
    "    povetrnostni_podm_category\n",
    ").replace(\n",
    "    misto_nehody_category\n",
    ").replace(\n",
    "    viditelnost_category\n",
    ").replace(\n",
    "    rozhled_category\n",
    ").replace(\n",
    "    misto_nehody_category\n",
    ").replace(\n",
    "    druh_komun_category\n",
    ").to_dict(orient=\"records\")\n",
    "with open(path_prefix + \"ped_accidents.js\", \"w\") as out:\n",
    "    out.write(\"const pedestrian_accidents_json = \" + str(ped_accidents_dict))"
   ]
  },
  {
   "cell_type": "code",
   "execution_count": 260,
   "id": "b080157d",
   "metadata": {},
   "outputs": [],
   "source": [
    "columns = [\"POINT_Y\", \"POINT_X\", \"datetime\", \"zavineni\", \"viditelnost\", \"cas\", \"hodina\", \"mesic_t\", \"doba\", \"den_v_tydnu\", \"alkohol\", \"alkohol_vinik\", \"hlavni_pricina\", \"srazka\", \"pricina\", \"stav_vozovky\", \"povetrnostni_podm\", \"rozhled\", \"misto_nehody\", \"druh_komun\", \"usmrceno_os\", \"tezce_zran_os\", \"lehce_zran_os\", \"hmotna_skoda\", \"smrt\", \"smrt_dny\", \"druh_vozidla\", \"stav_ridic\", \"ovlivneni_ridice\", \"osoba\", \"ozn_osoba\", \"pohlavi\", \"nasledek\"]\n",
    "traffic_accidents_dict = sources[\"traffic_accidents\"][columns].rename(\n",
    "    columns=columns_renaming\n",
    ").dropna(\n",
    "    subset=[\"point_x\", \"point_y\"]\n",
    ").fillna(\n",
    "    \"unknown\"\n",
    ").replace(\n",
    "    srazka_category\n",
    ").replace(\n",
    "    pricina_category\n",
    ").replace(\n",
    "    alkohol_category\n",
    ").replace(\n",
    "    zavineni_category\n",
    ").replace(\n",
    "    stav_vozovky_category\n",
    ").replace(\n",
    "    povetrnostni_podm_category\n",
    ").replace(\n",
    "    misto_nehody_category\n",
    ").replace(\n",
    "    viditelnost_category\n",
    ").replace(\n",
    "    rozhled_category\n",
    ").replace(\n",
    "    misto_nehody_category\n",
    ").replace(\n",
    "    druh_komun_category\n",
    ").to_dict(orient=\"records\")\n",
    "with open(path_prefix + \"traffic_accidents.js\", \"w\") as out:\n",
    "    out.write(\"const traffic_accidents_json = \" + str(traffic_accidents_dict))"
   ]
  },
  {
   "cell_type": "code",
   "execution_count": 261,
   "id": "6e2e55d7",
   "metadata": {},
   "outputs": [],
   "source": [
    "columns = [\"point_y\", \"point_x\", \"datetime\", \"pricina\", \"alkohol\", \"zavineni\", \"nasledky\", \"stav_vozovky\", \"povetrnostni_podm\", \"viditelnost\", \"rozhled\", \"misto_nehody\", \"druh_komun\", \"druh_vozidla\", \"stav_ridic\", \"ovlivneni_ridice\", \"osoba\", \"ozn_osoba\", \"pohlavi\", \"nasledek\", \"usmrceno_os\", \"tezce_zran_os\", \"lehce_zran_os\", \"hmotna_skoda\", \"cas\", \"hodina\", \"den_v_tydnu\", \"vek_skupina\", \"nazev\"]\n",
    "bike_accidents_dict = sources[\"bike_accidents\"][columns].rename(\n",
    "    columns=columns_renaming\n",
    ").dropna(subset=[\"point_x\", \"point_y\"]\n",
    "        ).fillna(\n",
    "    \"unknown\"\n",
    ").replace(\n",
    "    srazka_category\n",
    ").replace(\n",
    "    pricina_category\n",
    ").replace(\n",
    "    alkohol_category\n",
    ").replace(\n",
    "    zavineni_category\n",
    ").replace(\n",
    "    stav_vozovky_category\n",
    ").replace(\n",
    "    povetrnostni_podm_category\n",
    ").replace(\n",
    "    misto_nehody_category\n",
    ").replace(\n",
    "    viditelnost_category\n",
    ").replace(\n",
    "    rozhled_category\n",
    ").replace(\n",
    "    misto_nehody_category\n",
    ").replace(\n",
    "    druh_komun_category\n",
    ").to_dict(orient=\"records\")\n",
    "with open(path_prefix + \"bike_accidents.js\", \"w\") as out:\n",
    "    out.write(\"const bike_accidents_json = \" + str(bike_accidents_dict))"
   ]
  },
  {
   "cell_type": "code",
   "execution_count": 63,
   "id": "688a9c7b",
   "metadata": {
    "scrolled": true
   },
   "outputs": [],
   "source": [
    "columns = [\"Y\", \"X\", \"datum_instalace\"]\n",
    "sources[\"street_lights\"][columns].to_json(path_prefix  + \"street_lights.json\", orient=\"records\")"
   ]
  },
  {
   "cell_type": "code",
   "execution_count": 64,
   "id": "20ecd9f6",
   "metadata": {},
   "outputs": [],
   "source": [
    "columns = [\"Y\", \"X\", \"stop_name\"]\n",
    "sources[\"pub_trans_stops\"][columns].to_json(path_prefix + \"pub_trans_stops.json\", orient=\"records\")"
   ]
  },
  {
   "cell_type": "code",
   "execution_count": null,
   "id": "49f02052",
   "metadata": {},
   "outputs": [],
   "source": []
  },
  {
   "cell_type": "code",
   "execution_count": null,
   "id": "36c73ba1",
   "metadata": {},
   "outputs": [],
   "source": []
  }
 ],
 "metadata": {
  "kernelspec": {
   "display_name": "Python 3 (ipykernel)",
   "language": "python",
   "name": "python3"
  },
  "language_info": {
   "codemirror_mode": {
    "name": "ipython",
    "version": 3
   },
   "file_extension": ".py",
   "mimetype": "text/x-python",
   "name": "python",
   "nbconvert_exporter": "python",
   "pygments_lexer": "ipython3",
   "version": "3.9.15"
  }
 },
 "nbformat": 4,
 "nbformat_minor": 5
}
