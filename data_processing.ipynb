{
 "cells": [
  {
   "cell_type": "code",
   "execution_count": 1,
   "id": "c15f35f4",
   "metadata": {},
   "outputs": [],
   "source": [
    "import pandas as pd\n",
    "import numpy as np\n",
    "import geopandas as gpd\n",
    "import datetime as dt"
   ]
  },
  {
   "cell_type": "code",
   "execution_count": 2,
   "id": "19d468c5",
   "metadata": {},
   "outputs": [],
   "source": [
    "pd.set_option('display.max_colwidth', None)"
   ]
  },
  {
   "cell_type": "code",
   "execution_count": 3,
   "id": "d6ac2b11",
   "metadata": {},
   "outputs": [],
   "source": [
    "from docs.data_translation_tables.srazka_category import srazka_category"
   ]
  },
  {
   "cell_type": "code",
   "execution_count": 4,
   "id": "4d83ad7f",
   "metadata": {},
   "outputs": [],
   "source": [
    "from docs.data_translation_tables.pricina_category import pricina_category"
   ]
  },
  {
   "cell_type": "code",
   "execution_count": 5,
   "id": "5be25c1e",
   "metadata": {},
   "outputs": [],
   "source": [
    "#hlavni_pricina\n",
    "# co s tymto"
   ]
  },
  {
   "cell_type": "code",
   "execution_count": 6,
   "id": "dfb67ce5",
   "metadata": {},
   "outputs": [],
   "source": [
    "from docs.data_translation_tables.alkohol_category import alkohol_category"
   ]
  },
  {
   "cell_type": "code",
   "execution_count": 7,
   "id": "2cd80965",
   "metadata": {},
   "outputs": [],
   "source": [
    "#drop \n",
    "#alkohol_vinik"
   ]
  },
  {
   "cell_type": "code",
   "execution_count": 8,
   "id": "362ba122",
   "metadata": {},
   "outputs": [],
   "source": [
    "from docs.data_translation_tables.zavineni_category import zavineni_category"
   ]
  },
  {
   "cell_type": "code",
   "execution_count": 9,
   "id": "b213cf5f",
   "metadata": {},
   "outputs": [],
   "source": [
    "#drop\n",
    "#nasledky"
   ]
  },
  {
   "cell_type": "code",
   "execution_count": 10,
   "id": "ce048032",
   "metadata": {},
   "outputs": [],
   "source": [
    "from docs.data_translation_tables.stav_vozovky_category import stav_vozovky_category"
   ]
  },
  {
   "cell_type": "code",
   "execution_count": 11,
   "id": "dd82f491",
   "metadata": {},
   "outputs": [],
   "source": [
    "from docs.data_translation_tables.povetrnostni_podm_category import povetrnostni_podm_category"
   ]
  },
  {
   "cell_type": "code",
   "execution_count": 12,
   "id": "a7a3d7f8",
   "metadata": {},
   "outputs": [],
   "source": [
    "from docs.data_translation_tables.viditelnost_category import viditelnost_category"
   ]
  },
  {
   "cell_type": "code",
   "execution_count": 13,
   "id": "c206f5ba",
   "metadata": {},
   "outputs": [],
   "source": [
    "from docs.data_translation_tables.rozhled_category import rozhled_category"
   ]
  },
  {
   "cell_type": "code",
   "execution_count": 14,
   "id": "3c9af538",
   "metadata": {},
   "outputs": [],
   "source": [
    "from docs.data_translation_tables.misto_nehody_category import misto_nehody_category"
   ]
  },
  {
   "cell_type": "code",
   "execution_count": 15,
   "id": "3b0693fc",
   "metadata": {},
   "outputs": [],
   "source": [
    "from docs.data_translation_tables.druh_komun_category import druh_komun_category"
   ]
  },
  {
   "cell_type": "code",
   "execution_count": 16,
   "id": "0c6a318c",
   "metadata": {},
   "outputs": [],
   "source": [
    "#situace_nehody\n",
    "from docs.data_translation_tables.chodec_situace_category import chodec_situace_category"
   ]
  },
  {
   "cell_type": "code",
   "execution_count": 17,
   "id": "5c412362",
   "metadata": {
    "scrolled": true
   },
   "outputs": [],
   "source": [
    "from docs.data_translation_tables.druh_vozidla_category import druh_vozidla_category"
   ]
  },
  {
   "cell_type": "code",
   "execution_count": 18,
   "id": "0846efd0",
   "metadata": {
    "scrolled": true
   },
   "outputs": [],
   "source": [
    "#stav_ridic\n",
    "#stav_chodce\n",
    "# =>\n",
    "# stav_osoby\n",
    "from docs.data_translation_tables.stav_osoby_category import stav_osoby_category"
   ]
  },
  {
   "cell_type": "code",
   "execution_count": null,
   "id": "d730306d",
   "metadata": {
    "scrolled": true
   },
   "outputs": [],
   "source": []
  },
  {
   "cell_type": "code",
   "execution_count": 19,
   "id": "6430c0e9",
   "metadata": {},
   "outputs": [],
   "source": [
    "#chovani_chodce\n",
    "from docs.data_translation_tables.chovani_chodce_category import chovani_chodce_category"
   ]
  },
  {
   "cell_type": "code",
   "execution_count": 20,
   "id": "5bf1d925",
   "metadata": {},
   "outputs": [],
   "source": [
    "#ovlivneni_ridice"
   ]
  },
  {
   "cell_type": "code",
   "execution_count": 21,
   "id": "9a039518",
   "metadata": {},
   "outputs": [],
   "source": [
    "from docs.data_translation_tables.osoba_category import osoba_category"
   ]
  },
  {
   "cell_type": "code",
   "execution_count": 22,
   "id": "99f6af18",
   "metadata": {},
   "outputs": [],
   "source": [
    "#ozn_osoba"
   ]
  },
  {
   "cell_type": "code",
   "execution_count": 23,
   "id": "7edd5444",
   "metadata": {},
   "outputs": [],
   "source": [
    "#pohlavi\n",
    "#chodec_pohlavi\n",
    "# ->\n",
    "#pohlavi\n",
    "from docs.data_translation_tables.pohlavi_category import pohlavi_category"
   ]
  },
  {
   "cell_type": "code",
   "execution_count": null,
   "id": "561ee2d0",
   "metadata": {},
   "outputs": [],
   "source": []
  },
  {
   "cell_type": "code",
   "execution_count": 24,
   "id": "52076780",
   "metadata": {},
   "outputs": [],
   "source": [
    "#nasledek\n",
    "#nasledky_chodce\n",
    "# ->\n",
    "# nasledek\n",
    "from docs.data_translation_tables.nasledek_category import nasledek_category"
   ]
  },
  {
   "cell_type": "code",
   "execution_count": null,
   "id": "84aeec37",
   "metadata": {},
   "outputs": [],
   "source": []
  },
  {
   "cell_type": "code",
   "execution_count": 25,
   "id": "25e2e104",
   "metadata": {},
   "outputs": [],
   "source": [
    "#prvni_pomoc\n",
    "#drop"
   ]
  },
  {
   "cell_type": "code",
   "execution_count": 26,
   "id": "8f2e6004",
   "metadata": {},
   "outputs": [],
   "source": [
    "#usmrceno_os"
   ]
  },
  {
   "cell_type": "code",
   "execution_count": 27,
   "id": "b0c971d3",
   "metadata": {},
   "outputs": [],
   "source": [
    "#tezce_zran_os"
   ]
  },
  {
   "cell_type": "code",
   "execution_count": 28,
   "id": "a1348a8f",
   "metadata": {},
   "outputs": [],
   "source": [
    "#lehce_zran_os"
   ]
  },
  {
   "cell_type": "code",
   "execution_count": 29,
   "id": "7d0e5212",
   "metadata": {},
   "outputs": [],
   "source": [
    "#hmotna_skoda"
   ]
  },
  {
   "cell_type": "code",
   "execution_count": 30,
   "id": "7a04cd19",
   "metadata": {},
   "outputs": [],
   "source": [
    "#cas"
   ]
  },
  {
   "cell_type": "code",
   "execution_count": 31,
   "id": "f465be69",
   "metadata": {},
   "outputs": [],
   "source": [
    "#mesic"
   ]
  },
  {
   "cell_type": "code",
   "execution_count": 32,
   "id": "d8a84bbc",
   "metadata": {},
   "outputs": [],
   "source": [
    "#rok"
   ]
  },
  {
   "cell_type": "code",
   "execution_count": 33,
   "id": "44f06b86",
   "metadata": {},
   "outputs": [],
   "source": [
    "#den_v_tydn"
   ]
  },
  {
   "cell_type": "code",
   "execution_count": 34,
   "id": "aa835e6c",
   "metadata": {},
   "outputs": [],
   "source": [
    "#doba"
   ]
  },
  {
   "cell_type": "code",
   "execution_count": 35,
   "id": "53751d51",
   "metadata": {},
   "outputs": [],
   "source": [
    "#vek_skupina\n",
    "from docs.data_translation_tables.vek_skupina_category import vek_skupina_category"
   ]
  },
  {
   "cell_type": "code",
   "execution_count": 36,
   "id": "91dad15e",
   "metadata": {},
   "outputs": [],
   "source": [
    "#nazev"
   ]
  },
  {
   "cell_type": "code",
   "execution_count": 37,
   "id": "039e720c",
   "metadata": {},
   "outputs": [],
   "source": [
    "path_prefix = \"sources/\""
   ]
  },
  {
   "cell_type": "code",
   "execution_count": 38,
   "id": "0f97b32b",
   "metadata": {},
   "outputs": [],
   "source": [
    "columns_renaming = {\n",
    "    'datum': 'date',\n",
    "    'Y': 'point_y',\n",
    "    'X': 'point_x',\n",
    "    'POINT_Y': 'point_y',\n",
    "    'POINT_X': 'point_x',\n",
    "    'srazka': 'collision_with',\n",
    "    'pricina': 'cause',\n",
    "    'hlavni_pricina': 'main_cause',\n",
    "    'alkohol': 'alcohol',\n",
    "    'alkohol_vinik': 'alcohol_offender',\n",
    "    'zavineni': 'caused_by',\n",
    "    'nasledky': 'consequences',\n",
    "    'stav_vozovky': 'road_condition',\n",
    "    'povetrnostni_podm': 'weather',\n",
    "    'viditelnost': 'visibility',\n",
    "    'rozhled': 'view_condition',\n",
    "    'misto_nehody': 'accident_place',\n",
    "    'druh_komun': 'road_type',\n",
    "    'situace_nehody': 'accident_circumstances',\n",
    "    'druh_vozidla': 'vehicle_type',\n",
    "    'stav_ridic': 'person_condition',    \n",
    "    'stav_chodce': 'person_condition',\n",
    "    'stav_osoby': 'person_condition',\n",
    "    'chovani_chodce': 'pedestrian_behaviour',\n",
    "    'ovlivneni_ridice': 'driver_circumstances',\n",
    "    'osoba': 'person',\n",
    "    'ozn_osoba': 'person_circumstances',\n",
    "    'pohlavi': 'sex',\n",
    "    'chodec_pohlavi': 'sex',      \n",
    "    'nasledek': 'consequence',\n",
    "    'nasledky': 'consequence',\n",
    "    'nasledky_chodce': 'consequence', # merged into nasledek\n",
    "    'prvni_pomoc': 'first_aid', #redundant\n",
    "    'usmrceno_os': 'no_casualties',\n",
    "    'tezce_zran_os': 'no_injured_major',\n",
    "    'lehce_zran_os': 'no_injured_minor',    \n",
    "    'hmotna_skoda': 'material_damage_price',   \n",
    "    'cas': 'time',\n",
    "    'hodina': 'hour', # redundant\n",
    "    'mesic_t': 'month_text', #redundant\n",
    "    'mesic': 'month',\n",
    "    'rok': 'year',\n",
    "    'den': 'day', #redundant\n",
    "    'den_v_tydnu': 'weekday',\n",
    "    'doba': 'day_night',    \n",
    "    'vek_skupina': 'age_group',  \n",
    "    'nazev': 'location',   \n",
    "    \n",
    "    'smrt': 'death', #zvytocne\n",
    "    'smrt_dny': 'days_to_death', #zbytocne\n",
    "   \n",
    "}"
   ]
  },
  {
   "cell_type": "code",
   "execution_count": null,
   "id": "dd0698ce",
   "metadata": {},
   "outputs": [],
   "source": []
  },
  {
   "cell_type": "code",
   "execution_count": 39,
   "id": "a09e7104",
   "metadata": {},
   "outputs": [],
   "source": [
    "sources = {}\n",
    "sources[\"bike_accidents\"] = pd.read_csv(\"sources/raw/bike_accidents.csv\", float_precision='round_trip')\n",
    "sources[\"ped_accidents\"] = pd.read_csv(\"sources/raw/pedestrian_accidents.csv\", float_precision='round_trip')\n",
    "sources[\"pub_trans_stops\"] = pd.read_csv(\"sources/raw/public_transport_stops.csv\")\n",
    "sources[\"street_lights\"] = pd.read_csv(\"sources/raw/street_lights.csv\")\n",
    "sources[\"traffic_accidents\"] = pd.read_csv(\"sources/raw/traffic_accidents.csv\", low_memory=False, float_precision='round_trip')\n"
   ]
  },
  {
   "cell_type": "code",
   "execution_count": 40,
   "id": "a7ca6705",
   "metadata": {},
   "outputs": [
    {
     "data": {
      "text/plain": [
       "array(['havárie', 'jiný druh nehody', 'srážka s chodcem',\n",
       "       'srážka s domácím zvířetem',\n",
       "       'srážka s jedoucím nekolejovým vozidlem', 'srážka s lesní zvěří',\n",
       "       'srážka s pevnou překážkou', 'srážka s tramvají',\n",
       "       'srážka s vlakem', 'srážka s vozidlem zaparkovaným, odstaveným'],\n",
       "      dtype=object)"
      ]
     },
     "execution_count": 40,
     "metadata": {},
     "output_type": "execute_result"
    }
   ],
   "source": [
    "srazka1 = sources['bike_accidents']['srazka'].unique()\n",
    "srazka2 = sources['traffic_accidents']['srazka'].unique()\n",
    "srazka3 = sources['ped_accidents']['srazka'].unique()\n",
    "\n",
    "srazka4 = np.concatenate((srazka1, srazka2, srazka3), axis=0)\n",
    "np.unique(srazka4)"
   ]
  },
  {
   "cell_type": "code",
   "execution_count": 41,
   "id": "72304c9d",
   "metadata": {},
   "outputs": [
    {
     "data": {
      "text/plain": [
       "array(['bezohledná, agresivní, neohleduplná jízda',\n",
       "       'chodci na vyznačeném přechodu', 'chyby při udání směru jízdy',\n",
       "       'defekt pneumatiky způsobený průrazem nebo náhlým únikem vzduchu',\n",
       "       'jiná technická závada (vztahuje se i na přípojná vozidla)',\n",
       "       'jiné nedání přednosti', 'jiný druh nepřiměřené rychlosti',\n",
       "       'jiný druh nesprávného předjíždění',\n",
       "       'jiný druh nesprávného způsobu jízdy',\n",
       "       'jízda (vjetí) jednosměrnou ulicí, silnicí (v protisměru)',\n",
       "       'jízda na \"červenou\" 3-barevného semaforu',\n",
       "       'jízda po nesprávné straně vozovky, vjetí do protisměru',\n",
       "       'nedodržení bezpečné vzdálenosti za vozidlem',\n",
       "       'nehoda při provádění služebního zákroku (pronásledování pachatele atd.)',\n",
       "       'nehoda v důsledku použití (policií) prostředků k násilnému zastavení vozidla (zastavovací pásy, zábrana, vozidlo atd.)',\n",
       "       'nepřizpůsobení rychlosti bočnímu, nárazovému větru (i při míjení, předjíždění vozidel)',\n",
       "       'nepřizpůsobení rychlosti dopravně technickému stavu vozovky (zatáčka, klesání, stoupání, šířka vozovky apod.)',\n",
       "       'nepřizpůsobení rychlosti intenzitě (hustotě) provozu',\n",
       "       'nepřizpůsobení rychlosti stavu vozovky (náledí, výtluky, bláto, mokrý povrch apod.)',\n",
       "       'nepřizpůsobení rychlosti viditelnosti (mlha, soumrak, jízda v noci na tlumená světla apod.)',\n",
       "       'nepřizpůsobení rychlosti vlastnostem vozidla a nákladu',\n",
       "       'nesprávné otáčení nebo couvání', 'nesprávné uložení nákladu',\n",
       "       'nezaviněná řidičem', 'nezvládnutí řízení vozidla',\n",
       "       'neúčinná nebo nefungující parkovací brzda',\n",
       "       'náhlé bezdůvodné snížení rychlosti jízdy, zabrzdění nebo zastavení',\n",
       "       'proti příkazu dopravní značky DEJ PŘEDNOST',\n",
       "       'proti příkazu dopravní značky STŮJ DEJ PŘEDNOST',\n",
       "       'protijedoucímu vozidlu při objíždění překážky',\n",
       "       'předjíždění bez dostatečného bočního odstupu',\n",
       "       'předjíždění vlevo vozidla odbočujícího vlevo',\n",
       "       'předjíždění vpravo',\n",
       "       'přehlédnutí již předjíždějícího souběžně jedoucího vozidla',\n",
       "       'překročení předepsané rychlosti stanovené pravidly',\n",
       "       'překročení rychlosti stanovené dopravní značkou',\n",
       "       'při odbočování vlevo',\n",
       "       'při odbočování vlevo souběžně jedoucímu vozidlu',\n",
       "       'při otáčení nebo couvání',\n",
       "       'při předjíždění došlo k ohrožení protijedoucího řidiče vozidla (špatný odhad vzdálenosti potřebné k předjetí apod.)',\n",
       "       'při předjíždění došlo k ohrožení předjížděného řidiče vozidla (vynucované zařazení, předjížděný řidič musel prudce brzdit, měnit směr jízdy apod.)',\n",
       "       'při přejíždění byla přejeta podélná čára souvislá',\n",
       "       'při přejíždění z jednoho jízdního pruhu do druhého',\n",
       "       'při vjíždění na silnici',\n",
       "       'při zařazování do proudu jedoucích vozidel ze stanice, místa zastavení nebo stání',\n",
       "       'samovolné rozjetí nezajištěného vozidla',\n",
       "       'tramvaji, která odbočuje',\n",
       "       'upadnutí, ztráta kola vozidla (i rezervního)',\n",
       "       'vjetí na nezpevněnou krajnici', 'vozidlu přijíždějícímu zprava',\n",
       "       'vyhýbání bez dostatečného bočního odstupu (vůle)',\n",
       "       'zablokování kol v důsledku mechanické závady vozidla (zadřený motor, převodovka, rozvodovka, spadlý řetěz apod.)',\n",
       "       'závada provozní brzdy', 'závada závěsu pro přívěs',\n",
       "       'závada řízení', 'řidič se plně nevěnoval řízení vozidla'],\n",
       "      dtype=object)"
      ]
     },
     "execution_count": 41,
     "metadata": {},
     "output_type": "execute_result"
    }
   ],
   "source": [
    "pricina1 = sources['bike_accidents']['pricina'].unique()\n",
    "pricina2 = sources['traffic_accidents']['pricina'].unique()\n",
    "pricina3 = sources['ped_accidents']['pricina'].unique()\n",
    "\n",
    "pricina4 = np.concatenate((pricina1, pricina2, pricina3), axis=0)\n",
    "np.unique(pricina4)"
   ]
  },
  {
   "cell_type": "code",
   "execution_count": 42,
   "id": "140e5107",
   "metadata": {},
   "outputs": [
    {
     "data": {
      "text/plain": [
       "array(['nedání přenosti v jízdě', 'nepřiměřená rychlost jízdy',\n",
       "       'nesprávný způsob jízdy', 'nesprávé předjíždění',\n",
       "       'nezaviněno řidičem', 'technická závada vozidla'], dtype=object)"
      ]
     },
     "execution_count": 42,
     "metadata": {},
     "output_type": "execute_result"
    }
   ],
   "source": [
    "# hlavni_pricina1 = sources['bike_accidents']['hlavni_pricina'].unique()\n",
    "hlavni_pricina2 = sources['traffic_accidents']['hlavni_pricina'].unique()\n",
    "hlavni_pricina3 = sources['ped_accidents']['hlavni_pricina'].unique()\n",
    "\n",
    "hlavni_pricina4 = np.concatenate((hlavni_pricina2, hlavni_pricina3), axis=0)\n",
    "np.unique(hlavni_pricina4)"
   ]
  },
  {
   "cell_type": "code",
   "execution_count": 43,
   "id": "595af664",
   "metadata": {},
   "outputs": [
    {
     "data": {
      "text/plain": [
       "array(['Ano, obsah alkoholu v krvi 1,5‰ a více',\n",
       "       'Ano, obsah alkoholu v krvi do 0,24 ‰',\n",
       "       'Ano, obsah alkoholu v krvi od 0,24‰ do 0,5‰',\n",
       "       'Ano, obsah alkoholu v krvi od 0,5‰ do 0,8‰',\n",
       "       'Ano, obsah alkoholu v krvi od 0,8‰ do 1,0‰',\n",
       "       'Ano, obsah alkoholu v krvi od 1,0‰ do 1,5‰', 'Ne', 'Nezjišťován',\n",
       "       'Pod vlivem alkoholu a drog', 'Pod vlivem drog'], dtype=object)"
      ]
     },
     "execution_count": 43,
     "metadata": {},
     "output_type": "execute_result"
    }
   ],
   "source": [
    "alkohol1 = sources['bike_accidents']['alkohol'].unique()\n",
    "alkohol2 = sources['traffic_accidents']['alkohol'].unique()\n",
    "alkohol3 = sources['ped_accidents']['alkohol'].unique()\n",
    "\n",
    "alkohol4 = np.concatenate((alkohol1, alkohol2, alkohol3), axis=0)\n",
    "np.unique(alkohol4)"
   ]
  },
  {
   "cell_type": "code",
   "execution_count": 44,
   "id": "ad1d2ab8",
   "metadata": {},
   "outputs": [
    {
     "data": {
      "text/plain": [
       "array(['ano', 'ne', 'nezjišťováno'], dtype=object)"
      ]
     },
     "execution_count": 44,
     "metadata": {},
     "output_type": "execute_result"
    }
   ],
   "source": [
    "#alkohol_vinik1\n",
    "alkohol_vinik2 = sources['traffic_accidents']['alkohol_vinik'].unique()\n",
    "alkohol_vinik3 = sources['ped_accidents']['alkohol_vinik'].unique()\n",
    "\n",
    "alkohol_vinik4 = np.concatenate((alkohol_vinik2, alkohol_vinik3), axis=0)\n",
    "np.unique(alkohol_vinik4)"
   ]
  },
  {
   "cell_type": "code",
   "execution_count": 45,
   "id": "ba2e3f56",
   "metadata": {},
   "outputs": [
    {
     "data": {
      "text/plain": [
       "array(['chginsodcem', 'chodcem', 'jiné zaviněn',\n",
       "       'jiným účastníkem silničního provozu',\n",
       "       'lesní zvěří, domácím zvířectvem', 'technickou závadou vozidla',\n",
       "       'závadou komunikace', 'řidičem motorového vozidla',\n",
       "       'řidičem nemotorového vozidla'], dtype=object)"
      ]
     },
     "execution_count": 45,
     "metadata": {},
     "output_type": "execute_result"
    }
   ],
   "source": [
    "zavineni1 = sources['bike_accidents']['zavineni'].unique()\n",
    "zavineni2 = sources['traffic_accidents']['zavineni'].unique()\n",
    "zavineni3 = sources['ped_accidents']['zavineni'].unique()\n",
    "\n",
    "zavineni4 = np.concatenate((zavineni1, zavineni2, zavineni3), axis=0)\n",
    "np.unique(zavineni4)"
   ]
  },
  {
   "cell_type": "code",
   "execution_count": 46,
   "id": "ddc1254d",
   "metadata": {},
   "outputs": [
    {
     "data": {
      "text/plain": [
       "array(['nehoda s následky na životě nebo zdraví',\n",
       "       'nehoda pouze s hmotnou škodou'], dtype=object)"
      ]
     },
     "execution_count": 46,
     "metadata": {},
     "output_type": "execute_result"
    }
   ],
   "source": [
    "sources['bike_accidents']['nasledky'].unique()"
   ]
  },
  {
   "cell_type": "code",
   "execution_count": 47,
   "id": "0774e7fd",
   "metadata": {},
   "outputs": [
    {
     "data": {
      "text/plain": [
       "array(['jiný stav povrchu vozovky v době nehod', 'na vozovce je bláto',\n",
       "       'na vozovce je náledí, ujetý sníh - neposypané',\n",
       "       'na vozovce je náledí, ujetý sníh - posypané',\n",
       "       'na vozovce je rozlitý olej, nafta apod.',\n",
       "       'náhlá změna stavu vozovky (námraza na mostu, místní náledí)',\n",
       "       'povrch mokrý', 'povrch suchý, neznečistěný',\n",
       "       'povrch suchý, znečistěný (písek, prach, listí, štěrk atd.)',\n",
       "       'souvislá sněhová vrstva, rozbředlý sníh'], dtype=object)"
      ]
     },
     "execution_count": 47,
     "metadata": {},
     "output_type": "execute_result"
    }
   ],
   "source": [
    "stav_vozovky1 = sources['bike_accidents']['stav_vozovky'].unique()\n",
    "stav_vozovky2 = sources['traffic_accidents']['stav_vozovky'].unique()\n",
    "stav_vozovky3 = sources['ped_accidents']['stav_vozovky'].unique()\n",
    "\n",
    "stav_vozovky4 = np.concatenate((stav_vozovky1, stav_vozovky2, stav_vozovky3), axis=0)\n",
    "np.unique(stav_vozovky4)"
   ]
  },
  {
   "cell_type": "code",
   "execution_count": 48,
   "id": "1a6b9ed6",
   "metadata": {},
   "outputs": [
    {
     "data": {
      "text/plain": [
       "array(['déšť', 'jiné ztížené', 'mlha',\n",
       "       'na počátku deště, slabý déšť, mrholení apod.', 'neztížené',\n",
       "       'nárazový vítr (boční, vichřice apod.)', 'sněžení',\n",
       "       'tvoří se námraza, náledí'], dtype=object)"
      ]
     },
     "execution_count": 48,
     "metadata": {},
     "output_type": "execute_result"
    }
   ],
   "source": [
    "povetrnostni_podm1 = sources['bike_accidents']['povetrnostni_podm'].unique()\n",
    "povetrnostni_podm2 = sources['traffic_accidents']['povetrnostni_podm'].unique()\n",
    "povetrnostni_podm3 = sources['ped_accidents']['povetrnostni_podm'].unique()\n",
    "\n",
    "povetrnostni_podm4 = np.concatenate((povetrnostni_podm1, povetrnostni_podm2, povetrnostni_podm3), axis=0)\n",
    "np.unique(povetrnostni_podm4)"
   ]
  },
  {
   "cell_type": "code",
   "execution_count": 49,
   "id": "fde0eddc",
   "metadata": {},
   "outputs": [
    {
     "data": {
      "text/plain": [
       "array(['v noci - bez veřejného osvětlení, viditelnost nezhoršená vlivem povětrnostních podmínek',\n",
       "       'v noci - bez veřejného osvětlení, viditelnost zhoršená vlivem povětrnostních podmínek (mlha, déšť, sněžení apod.',\n",
       "       'v noci - s veřejným osvětlením, viditelnost nezhoršená vlivem povětrnostních podmínek',\n",
       "       'v noci - s veřejným osvětlením, zhoršená viditelnost vlivem povětrnostních podmínek (mlha, déšť, sněžení apod.)',\n",
       "       've dne, viditelnost nezhoršená vlivem povětrnostních podmínek',\n",
       "       've dne, zhoršená viditelnost (svítání, soumrak)',\n",
       "       've dne, zhoršená viditelnost vlivem povětrnostních podmínek (mlha, sněžení, déšť apod.)'],\n",
       "      dtype=object)"
      ]
     },
     "execution_count": 49,
     "metadata": {},
     "output_type": "execute_result"
    }
   ],
   "source": [
    "viditelnost1 = sources['bike_accidents']['viditelnost'].unique()\n",
    "viditelnost2 = sources['traffic_accidents']['viditelnost'].unique()\n",
    "viditelnost3 = sources['ped_accidents']['viditelnost'].unique()\n",
    "\n",
    "viditelnost4 = np.concatenate((viditelnost1, viditelnost2, viditelnost3), axis=0)\n",
    "np.unique(viditelnost4)"
   ]
  },
  {
   "cell_type": "code",
   "execution_count": 50,
   "id": "d506e7c2",
   "metadata": {},
   "outputs": [
    {
     "data": {
      "text/plain": [
       "array(['dobré', 'jiné špatn', 'výhled zakryt stojícím vozidlem',\n",
       "       'špatné - vlivem okolní zástavby (budovy, plné zábradlí apod.)',\n",
       "       'špatné - vlivem průběhu komunikace, nebo podélného profilu nebo trasování (nepřehledný vrchol stoupání, zářez komunikace apod.)',\n",
       "       'špatné - vlivem vegetace - přechodně (tráva, obilí apod.)',\n",
       "       'špatné - vlivem vegetace - trvale (stromy, keře apod.)'],\n",
       "      dtype=object)"
      ]
     },
     "execution_count": 50,
     "metadata": {},
     "output_type": "execute_result"
    }
   ],
   "source": [
    "rozhled1 = sources['bike_accidents']['rozhled'].unique()\n",
    "rozhled2 = sources['traffic_accidents']['rozhled'].unique()\n",
    "rozhled3 = sources['ped_accidents']['rozhled'].unique()\n",
    "\n",
    "rozhled4 = np.concatenate((rozhled1, rozhled2, rozhled3), axis=0)\n",
    "np.unique(rozhled4)"
   ]
  },
  {
   "cell_type": "code",
   "execution_count": 51,
   "id": "d2eb9ec8",
   "metadata": {},
   "outputs": [
    {
     "data": {
      "text/plain": [
       "array(['most, nadjezd, podjezd, tunel',\n",
       "       'parkoviště přiléhající ke komunikaci', 'přechod pro chodce',\n",
       "       'v blízkosti přechodu pro chodce (do vzdálenosti 20 m)',\n",
       "       'výjezd z parkoviště, lesní cesty apod. (pol.36=7,8)',\n",
       "       'zastávka autobusu, trolejbusu, tramvaje s\\xa0nástup. ostrůvkem',\n",
       "       'zastávka tramvaje, autobusu, trolejbusu bez nástup. ostrůvku',\n",
       "       'čerpadlo pohonných hmot',\n",
       "       'železniční přejezd nezabezpečený závorami ani světelným výstražným zařízením',\n",
       "       'železniční přejezd zabezpečený', 'žádné nebo žádné z uvedených'],\n",
       "      dtype=object)"
      ]
     },
     "execution_count": 51,
     "metadata": {},
     "output_type": "execute_result"
    }
   ],
   "source": [
    "misto_nehody1 = sources['bike_accidents']['misto_nehody'].unique()\n",
    "misto_nehody2 = sources['traffic_accidents']['misto_nehody'].unique()\n",
    "misto_nehody3 = sources['ped_accidents']['misto_nehody'].unique()\n",
    "\n",
    "misto_nehody4 = np.concatenate((misto_nehody1, misto_nehody2, misto_nehody3), axis=0)\n",
    "np.unique(misto_nehody4)"
   ]
  },
  {
   "cell_type": "code",
   "execution_count": 52,
   "id": "57f08ac6",
   "metadata": {},
   "outputs": [
    {
     "data": {
      "text/plain": [
       "array(['dálnice', 'komunikace místní',\n",
       "       'komunikace sledovaná (ve vybraných městech)',\n",
       "       'komunikace účelová - ostatní (parkoviště, odpočívky apod.',\n",
       "       'komunikace účelová - polní a lesní cesty atd.',\n",
       "       'silnice I. třídy', 'silnice II. třídy', 'silnice III. třídy',\n",
       "       'uzel (křižovatka sledovaná ve vybraných městech)'], dtype=object)"
      ]
     },
     "execution_count": 52,
     "metadata": {},
     "output_type": "execute_result"
    }
   ],
   "source": [
    "druh_komun1 = sources['bike_accidents']['druh_komun'].unique()\n",
    "druh_komun2 = sources['traffic_accidents']['druh_komun'].unique()\n",
    "druh_komun3 = sources['ped_accidents']['druh_komun'].unique()\n",
    "\n",
    "druh_komun4 = np.concatenate((druh_komun1, druh_komun2, druh_komun3), axis=0)\n",
    "np.unique(druh_komun4)"
   ]
  },
  {
   "cell_type": "code",
   "execution_count": 53,
   "id": "975cfc97",
   "metadata": {
    "scrolled": true
   },
   "outputs": [
    {
     "data": {
      "text/plain": [
       "array(['přecházení mimo přechod (2O a více metrů od přechodu)',\n",
       "       'jiná situace', 'chůze, stání na chodníku',\n",
       "       'přecházení po vyznačeném přechodu', 'vstup chodce na signál STŮJ',\n",
       "       'vstup chodce do vozovky v blízkosti přechodu (cca do 2O m)',\n",
       "       'vstup chodce na signál VOLNO',\n",
       "       'přecházení těsně před nebo za vozidlem stojícím v zastávce',\n",
       "       'přecházení těsně před nebo za vozidlem parkujícím',\n",
       "       'chůze po správné straně', 'chůze po nesprávné straně'],\n",
       "      dtype=object)"
      ]
     },
     "execution_count": 53,
     "metadata": {},
     "output_type": "execute_result"
    }
   ],
   "source": [
    "sources['ped_accidents']['situace_nehody'].unique()"
   ]
  },
  {
   "cell_type": "code",
   "execution_count": 54,
   "id": "6e7067d4",
   "metadata": {
    "scrolled": true
   },
   "outputs": [
    {
     "data": {
      "text/plain": [
       "array(['autobus', 'chodec',\n",
       "       'jiné motorové vozidlo (zemědělské, lesní, stavební stroje atd.)',\n",
       "       'jiné nemotorové vozidlo', 'jiný druh vozidl', 'jízdní kolo',\n",
       "       'malý motocykl (do 50 ccm)', 'moped',\n",
       "       'motocykl (včetně sidecarů, skútrů apod.)',\n",
       "       'nezjištěno, řidič ujel',\n",
       "       'nákladní automobil (včetně multikáry, autojeřábu, cisterny atd.)',\n",
       "       'nákladní automobil s návěsem', 'nákladní automobil s přívěsem',\n",
       "       'osobní automobil bez přívěsu', 'osobní automobil s přívěsem',\n",
       "       'povoz, jízda na koni', 'traktor (i s přívěsem)', 'tramvaj',\n",
       "       'trolejbus', 'vlak'], dtype=object)"
      ]
     },
     "execution_count": 54,
     "metadata": {},
     "output_type": "execute_result"
    }
   ],
   "source": [
    "druh_vozidla1 = sources['bike_accidents']['druh_vozidla'].unique()\n",
    "druh_vozidla2 = sources['traffic_accidents']['druh_vozidla'].unique()\n",
    "\n",
    "druh_vozidla4 = np.concatenate((druh_vozidla1, druh_vozidla2), axis=0)\n",
    "np.unique(druh_vozidla4)"
   ]
  },
  {
   "cell_type": "code",
   "execution_count": 55,
   "id": "a701a5cb",
   "metadata": {},
   "outputs": [
    {
     "data": {
      "text/plain": [
       "array(['dobrý - žádné nepříznivé okolnosti nebyly zjištěny',\n",
       "       'dobrý -žádné nepříznivé okolnosti nebyly zjiště',\n",
       "       'fyzická indispozice (nemoc, nevolnost, snížená pohyblivost apod.)',\n",
       "       'invalid', 'invalida', 'jiný nepříznivý sta',\n",
       "       'jiný neuvedený stav', 'nemoc, úraz apod.',\n",
       "       'nepozornost, roztržitost', 'nezjištěno',\n",
       "       'pod vlivem alkoholu obsah alkoholu v krvi 1 ‰ a víc',\n",
       "       'pod vlivem alkoholu, obsah alkoholu v krvi 1 ‰ a více',\n",
       "       'pod vlivem alkoholu, obsah alkoholu v krvi do 0,99 ‰',\n",
       "       'pod vlivem alkoholu, obsah alkoholu v krvi do 0,99 ‰,',\n",
       "       'pod vlivem léků, narkoti', 'pod vlivem léků, narkotik',\n",
       "       'pokus o sebevraždu, sebevražd', 'pokus o sebevraždu, sebevražda',\n",
       "       'unaven, usnul, náhlá fyzická indispozic', 'unknown',\n",
       "       'řidič při jízdě zemřel (infarkt apod.'], dtype=object)"
      ]
     },
     "execution_count": 55,
     "metadata": {},
     "output_type": "execute_result"
    }
   ],
   "source": [
    "stav_osoby1 = sources['bike_accidents']['stav_ridic'].fillna('unknown').unique()\n",
    "stav_osoby2 = sources['traffic_accidents']['stav_ridic'].fillna('unknown').unique()\n",
    "stav_osoby3 = sources['ped_accidents']['stav_chodce'].unique()\n",
    "\n",
    "\n",
    "stav_osoby4 = np.concatenate((stav_osoby1, stav_osoby2, stav_osoby3), axis=0)\n",
    "np.unique(stav_osoby4)"
   ]
  },
  {
   "cell_type": "code",
   "execution_count": null,
   "id": "24cf3f4f",
   "metadata": {},
   "outputs": [],
   "source": []
  },
  {
   "cell_type": "code",
   "execution_count": 56,
   "id": "88901136",
   "metadata": {},
   "outputs": [
    {
     "data": {
      "text/plain": [
       "array(['špatný odhad vzdálenosti a rychlosti vozidla',\n",
       "       'žádné z uvedených',\n",
       "       'náhlé vstoupení do vozovky z chodníku, krajnice',\n",
       "       'náraz do vozidla z boku', 'správné, přiměřené',\n",
       "       'zmatené, zbrklé, nerozhodné jednání',\n",
       "       'náhlé vstoupení do vozovky z nástupního nebo dělícího ostrůvku',\n",
       "       'náhlá změna směru chůze', 'hra dětí na vozovce'], dtype=object)"
      ]
     },
     "execution_count": 56,
     "metadata": {},
     "output_type": "execute_result"
    }
   ],
   "source": [
    "sources['ped_accidents']['chovani_chodce'].unique()"
   ]
  },
  {
   "cell_type": "code",
   "execution_count": 57,
   "id": "4043aa1c",
   "metadata": {},
   "outputs": [
    {
     "data": {
      "text/plain": [
       "array([ 0.,  1.,  2.,  3.,  4.,  5., 99.])"
      ]
     },
     "execution_count": 57,
     "metadata": {},
     "output_type": "execute_result"
    }
   ],
   "source": [
    "# 99 = unknown\n",
    "ovlivneni_ridice1 = sources['bike_accidents']['ovlivneni_ridice'].fillna(99).unique()\n",
    "ovlivneni_ridice2 = sources['traffic_accidents']['ovlivneni_ridice'].fillna(99).unique()\n",
    "# ovlivneni_ridice3\n",
    "\n",
    "ovlivneni_ridice4 = np.concatenate((ovlivneni_ridice1, ovlivneni_ridice2), axis=0)\n",
    "np.unique(ovlivneni_ridice4)"
   ]
  },
  {
   "cell_type": "code",
   "execution_count": 58,
   "id": "0cbcf414",
   "metadata": {},
   "outputs": [
    {
     "data": {
      "text/plain": [
       "array(['chodec',\n",
       "       'ostatní spolucestující (i v postranním vozíku motocyklu)',\n",
       "       'spolucestující na předním sedadle vedle řidiče nebo spolujezdec (cestující) na motocyklu, jízdním kole',\n",
       "       'spolucestující na zadním sedadle', 'unknown', 'řidič'],\n",
       "      dtype=object)"
      ]
     },
     "execution_count": 58,
     "metadata": {},
     "output_type": "execute_result"
    }
   ],
   "source": [
    "osoba1 = sources['bike_accidents']['osoba'].fillna('unknown').unique()\n",
    "osoba2 = sources['traffic_accidents']['osoba'].fillna('unknown').unique()\n",
    "\n",
    "osoba4 = np.concatenate((osoba1, osoba2), axis=0)\n",
    "np.unique(osoba4)"
   ]
  },
  {
   "cell_type": "code",
   "execution_count": 59,
   "id": "f04d1ac0",
   "metadata": {},
   "outputs": [
    {
     "data": {
      "text/plain": [
       "array(['bez přilby (pouze u motocyklistů, příp. cyklistů)',\n",
       "       'bezpečnostní vak (airbag) v činnosti - osoba nepřipoutaná',\n",
       "       'bezpečnostní vak (airbag) v činnosti - osoba připoutaná',\n",
       "       'nepřipoutaný bezpečnostními pásy',\n",
       "       'připoutaný bezpečnostními pásy (i na zadních sedadlech)',\n",
       "       's přilbou (pouze u motocyklistů, příp. cyklistů)',\n",
       "       'sedící v dětské sedačce', 'unknown',\n",
       "       'vozidlo nevybaveno dětskou sedačkou'], dtype=object)"
      ]
     },
     "execution_count": 59,
     "metadata": {},
     "output_type": "execute_result"
    }
   ],
   "source": [
    "ozn_osoba1 = sources['bike_accidents']['ozn_osoba'].fillna('unknown').unique()\n",
    "ozn_osoba2 = sources['traffic_accidents']['ozn_osoba'].fillna('unknown').unique()\n",
    "# ozn_osoba3\n",
    "\n",
    "ozn_osoba4 = np.concatenate((ozn_osoba1, ozn_osoba2), axis=0)\n",
    "np.unique(ozn_osoba4)"
   ]
  },
  {
   "cell_type": "code",
   "execution_count": 60,
   "id": "324e6a71",
   "metadata": {},
   "outputs": [
    {
     "data": {
      "text/plain": [
       "array(['chlapec (do 15 let)', 'dívka (do 15 let)', 'muž', 'unknown',\n",
       "       'žena'], dtype=object)"
      ]
     },
     "execution_count": 60,
     "metadata": {},
     "output_type": "execute_result"
    }
   ],
   "source": [
    "pohlavi1 = sources['bike_accidents']['pohlavi'].fillna('unknown').unique()\n",
    "pohlavi2 = sources['traffic_accidents']['pohlavi'].fillna('unknown').unique()\n",
    "pohlavi3 = sources['ped_accidents']['chodec_pohlavi'].fillna('unknown').unique()\n",
    "\n",
    "pohlavi4 = np.concatenate((pohlavi1, pohlavi2, pohlavi3), axis=0)\n",
    "np.unique(pohlavi4)"
   ]
  },
  {
   "cell_type": "code",
   "execution_count": null,
   "id": "54c12795",
   "metadata": {},
   "outputs": [],
   "source": []
  },
  {
   "cell_type": "code",
   "execution_count": 61,
   "id": "eda59ebd",
   "metadata": {},
   "outputs": [
    {
     "data": {
      "text/plain": [
       "array(['bez zraněn', 'bez zranění', 'lehké zranění', 'těžké zranění',\n",
       "       'unknown', 'usmrcení'], dtype=object)"
      ]
     },
     "execution_count": 61,
     "metadata": {},
     "output_type": "execute_result"
    }
   ],
   "source": [
    "nasledek1 = sources['bike_accidents']['nasledek'].fillna('unknown').unique()\n",
    "nasledek2 = sources['traffic_accidents']['nasledek'].fillna('unknown').unique()\n",
    "nasledek3 = sources['ped_accidents']['nasledky_chodce'].fillna('unknown').unique()\n",
    "\n",
    "nasledek4 = np.concatenate((nasledek1, nasledek2, nasledek3), axis=0)\n",
    "np.unique(nasledek4)"
   ]
  },
  {
   "cell_type": "code",
   "execution_count": null,
   "id": "7f54b921",
   "metadata": {},
   "outputs": [],
   "source": []
  },
  {
   "cell_type": "code",
   "execution_count": 62,
   "id": "1db54b4d",
   "metadata": {},
   "outputs": [],
   "source": [
    "# redundant\n",
    "# sources['ped_accidents']['prvni_pomoc'].fillna('unknown').unique()"
   ]
  },
  {
   "cell_type": "code",
   "execution_count": 63,
   "id": "2407caf8",
   "metadata": {},
   "outputs": [
    {
     "data": {
      "text/plain": [
       "array([0, 1, 2, 3])"
      ]
     },
     "execution_count": 63,
     "metadata": {},
     "output_type": "execute_result"
    }
   ],
   "source": [
    "# do not need, only numbers\n",
    "usmrceno_os1 = sources['bike_accidents']['usmrceno_os'].unique()\n",
    "usmrceno_os2 = sources['traffic_accidents']['usmrceno_os'].unique()\n",
    "usmrceno_os3 = sources['ped_accidents']['usmrceno_os'].unique()\n",
    "\n",
    "usmrceno_os4 = np.concatenate((usmrceno_os1, usmrceno_os2, usmrceno_os3), axis=0)\n",
    "np.unique(usmrceno_os4)"
   ]
  },
  {
   "cell_type": "code",
   "execution_count": 64,
   "id": "bd61dc24",
   "metadata": {},
   "outputs": [
    {
     "data": {
      "text/plain": [
       "array([ 0,  1,  2,  3,  4, 14])"
      ]
     },
     "execution_count": 64,
     "metadata": {},
     "output_type": "execute_result"
    }
   ],
   "source": [
    "# do not need, only numbers, do not need\n",
    "tezce_zran_os1 = sources['bike_accidents']['tezce_zran_os'].unique()\n",
    "tezce_zran_os2 = sources['traffic_accidents']['tezce_zran_os'].unique()\n",
    "tezce_zran_os3 = sources['ped_accidents']['tezce_zran_os'].unique()\n",
    "\n",
    "tezce_zran_os4 = np.concatenate((tezce_zran_os1, tezce_zran_os2, tezce_zran_os3), axis=0)\n",
    "np.unique(tezce_zran_os4)"
   ]
  },
  {
   "cell_type": "code",
   "execution_count": 65,
   "id": "120693bc",
   "metadata": {},
   "outputs": [
    {
     "data": {
      "text/plain": [
       "array([ 0,  1,  2,  3,  4,  5,  6,  7,  8,  9, 12, 13, 19, 29])"
      ]
     },
     "execution_count": 65,
     "metadata": {},
     "output_type": "execute_result"
    }
   ],
   "source": [
    "# do not need, only numbers, do not need\n",
    "lehce_zran_os1 = sources['bike_accidents']['lehce_zran_os'].unique()\n",
    "lehce_zran_os2 = sources['traffic_accidents']['lehce_zran_os'].unique()\n",
    "lehce_zran_os3 = sources['ped_accidents']['lehce_zran_os'].unique()\n",
    "\n",
    "lehce_zran_os4 = np.concatenate((lehce_zran_os1, lehce_zran_os2, lehce_zran_os3), axis=0)\n",
    "np.unique(lehce_zran_os4)"
   ]
  },
  {
   "cell_type": "code",
   "execution_count": 66,
   "id": "f94dacb3",
   "metadata": {},
   "outputs": [
    {
     "data": {
      "text/plain": [
       "array([      0,       1,       2,       5,       6,      10,      15,\n",
       "            20,      25,      30,      31,      35,      40,      50,\n",
       "            51,      55,      60,      70,      80,      90,      95,\n",
       "           100,     105,     110,     115,     120,     125,     130,\n",
       "           140,     150,     160,     170,     180,     190,     200,\n",
       "           205,     210,     215,     220,     230,     240,     250,\n",
       "           260,     265,     280,     300,     305,     310,     320,\n",
       "           330,     340,     350,     351,     360,     370,     380,\n",
       "           390,     400,     405,     410,     420,     430,     440,\n",
       "           450,     480,     500,     510,     513,     520,     530,\n",
       "           550,     560,     570,     600,     610,     620,     650,\n",
       "           700,     750,     800,     810,     870,     900,     910,\n",
       "           930,    1000,    1010,    1020,    1050,    1100,    1200,\n",
       "          1210,    1500,    1700,    1900,    2000,    2350,    2500,\n",
       "          3000,    3100,    3380,    3500,    3700,    4000,    4100,\n",
       "          5000,    5100,    5200,    5500,    6000,    7000,    7800,\n",
       "          8000,    8500,    9000,    9500,   10000,   10100,   10300,\n",
       "         10500,   10600,   11000,   11500,   12000,   12500,   13000,\n",
       "         13500,   14000,   15000,   15100,   15500,   16000,   16500,\n",
       "         17000,   18000,   18300,   18500,   18900,   19000,   20000,\n",
       "         20300,   20400,   20500,   21000,   21500,   22000,   23000,\n",
       "         23100,   23900,   24000,   24100,   25000,   25500,   26000,\n",
       "         26500,   27000,   27300,   28000,   29000,   29100,   30000,\n",
       "         30100,   30500,   31000,   32000,   32500,   33000,   33100,\n",
       "         33200,   34000,   34100,   34900,   35000,   35100,   35200,\n",
       "         35500,   36000,   37000,   38000,   39000,   39200,   40000,\n",
       "         40100,   40500,   41000,   42000,   42900,   43000,   43100,\n",
       "         43900,   44000,   44100,   45000,   45500,   46000,   47000,\n",
       "         48000,   49000,   50000,   50100,   50200,   50500,   50700,\n",
       "         50900,   51000,   51300,   52000,   53000,   54000,   54100,\n",
       "         55000,   55500,   56000,   57000,   57500,   58000,   59000,\n",
       "         60000,   60500,   61000,   62000,   63000,   63900,   64000,\n",
       "         64100,   65000,   66000,   67000,   68000,   70000,   70500,\n",
       "         70800,   71000,   72000,   73000,   73900,   74000,   75000,\n",
       "         76000,   77000,   77400,   78000,   80000,   81000,   82000,\n",
       "         82900,   83000,   84000,   85000,   86000,   87000,   87500,\n",
       "         88000,   89000,   90000,   91000,   92000,   93000,   94000,\n",
       "         94100,   95000,   95800,   96000,   97000,   98000,   98500,\n",
       "         99000,  100000,  101000,  102000,  102900,  103000,  105000,\n",
       "        105500,  106000,  107000,  108000,  110000,  110500,  111000,\n",
       "        112000,  113000,  114000,  115000,  116000,  117000,  118000,\n",
       "        120000,  121000,  122000,  122500,  123000,  124000,  125000,\n",
       "        125500,  126000,  127000,  127300,  127500,  128000,  129000,\n",
       "        130000,  131000,  132000,  133000,  134000,  135000,  136000,\n",
       "        137000,  138000,  139000,  140000,  141000,  142000,  143000,\n",
       "        144000,  145000,  145500,  146000,  147000,  148000,  149000,\n",
       "        150000,  151000,  152000,  153000,  155000,  156000,  157000,\n",
       "        158000,  160000,  161000,  162000,  163000,  163500,  164000,\n",
       "        165000,  165400,  166000,  167000,  168000,  169000,  170000,\n",
       "        171000,  172000,  173000,  174000,  175000,  176000,  177000,\n",
       "        180000,  180500,  181000,  181500,  182000,  183000,  184000,\n",
       "        185000,  185500,  186000,  190000,  191000,  192000,  194000,\n",
       "        195000,  196000,  196300,  200000,  201000,  202000,  203000,\n",
       "        204000,  205000,  206000,  207000,  208000,  210000,  212000,\n",
       "        213000,  214000,  215000,  220000,  221000,  222000,  223000,\n",
       "        225000,  228000,  230000,  231000,  232000,  233000,  234000,\n",
       "        235000,  236000,  237000,  238000,  240000,  241000,  242000,\n",
       "        243000,  245000,  247000,  250000,  250500,  251000,  252000,\n",
       "        254000,  255000,  256000,  257000,  260000,  261000,  262000,\n",
       "        264000,  265000,  267000,  269000,  270000,  271000,  272000,\n",
       "        273000,  274000,  275000,  277000,  280000,  280500,  281000,\n",
       "        282000,  283000,  285000,  290000,  290500,  291000,  294000,\n",
       "        295000,  296000,  300000,  301000,  302000,  304000,  305000,\n",
       "        307000,  310000,  312000,  313000,  315000,  316000,  320000,\n",
       "        321000,  322000,  325000,  330000,  331000,  333000,  335000,\n",
       "        338000,  340000,  345000,  350000,  351000,  352000,  353000,\n",
       "        355000,  356000,  359000,  360000,  362500,  364000,  365000,\n",
       "        370000,  373000,  375000,  378000,  379000,  380000,  381000,\n",
       "        382000,  390000,  391000,  395000,  400000,  401000,  405000,\n",
       "        410000,  411000,  415000,  418000,  420000,  421000,  425000,\n",
       "        426000,  430000,  435000,  440000,  450000,  452000,  456000,\n",
       "        460000,  462000,  466000,  470000,  474000,  480000,  482000,\n",
       "        490000,  495000,  496000,  500000,  501000,  505000,  506000,\n",
       "        510000,  512000,  515600,  520000,  525000,  530000,  531000,\n",
       "        536000,  540000,  541000,  550000,  553000,  555000,  560000,\n",
       "        561000,  570000,  575000,  580000,  590000,  597000,  600000,\n",
       "        602000,  610000,  630000,  640000,  645000,  650000,  656000,\n",
       "        660000,  665000,  670000,  680000,  690000,  693000,  700000,\n",
       "        720000,  730000,  733000,  740000,  745000,  765000,  780000,\n",
       "        790000,  800000,  805000,  821000,  830000,  850000,  855000,\n",
       "        860000,  900000,  910000,  930000,  950000,  970000, 1000000,\n",
       "       1005000, 1020000, 1040000, 1050000, 1140000, 1360000, 1400000,\n",
       "       1510000, 1535000, 1550000, 1555000, 1580000, 1600000, 1642000,\n",
       "       1700000, 1790000, 1815000, 2010000, 2035000, 2100000, 2105000,\n",
       "       2200000, 2230000, 2350000, 2370000, 3220000, 3615000, 5131100,\n",
       "       5360000])"
      ]
     },
     "execution_count": 66,
     "metadata": {},
     "output_type": "execute_result"
    }
   ],
   "source": [
    "# do not need, only numbers, do not need\n",
    "hmotna_skoda1 = sources['bike_accidents']['hmotna_skoda'].unique()\n",
    "hmotna_skoda2 = sources['traffic_accidents']['hmotna_skoda'].unique()\n",
    "hmotna_skoda3 = sources['ped_accidents']['hmotna_skoda'].unique()\n",
    "\n",
    "hmotna_skoda4 = np.concatenate((hmotna_skoda1, hmotna_skoda2, hmotna_skoda3), axis=0)\n",
    "np.unique(hmotna_skoda4)"
   ]
  },
  {
   "cell_type": "code",
   "execution_count": 67,
   "id": "79b9da8c",
   "metadata": {},
   "outputs": [
    {
     "data": {
      "text/plain": [
       "array([2010, 2011, 2012, 2013, 2014, 2015, 2016, 2017, 2018, 2019, 2020,\n",
       "       2021])"
      ]
     },
     "execution_count": 67,
     "metadata": {},
     "output_type": "execute_result"
    }
   ],
   "source": [
    "rok1 = sources['bike_accidents']['rok'].unique()\n",
    "rok2 = sources['traffic_accidents']['rok'].unique()\n",
    "rok3 = sources['ped_accidents']['rok'].unique()\n",
    "\n",
    "rok4 = np.concatenate((rok1, rok2, rok3), axis=0)\n",
    "np.unique(rok4)\n",
    "\n"
   ]
  },
  {
   "cell_type": "code",
   "execution_count": 68,
   "id": "d0c837a3",
   "metadata": {},
   "outputs": [
    {
     "data": {
      "text/plain": [
       "array(['most, nadjezd, podjezd, tunel',\n",
       "       'parkoviště přiléhající ke komunikaci', 'přechod pro chodce',\n",
       "       'v blízkosti přechodu pro chodce (do vzdálenosti 20 m)',\n",
       "       'výjezd z parkoviště, lesní cesty apod. (pol.36=7,8)',\n",
       "       'zastávka autobusu, trolejbusu, tramvaje s\\xa0nástup. ostrůvkem',\n",
       "       'zastávka tramvaje, autobusu, trolejbusu bez nástup. ostrůvku',\n",
       "       'čerpadlo pohonných hmot',\n",
       "       'železniční přejezd nezabezpečený závorami ani světelným výstražným zařízením',\n",
       "       'železniční přejezd zabezpečený', 'žádné nebo žádné z uvedených'],\n",
       "      dtype=object)"
      ]
     },
     "execution_count": 68,
     "metadata": {},
     "output_type": "execute_result"
    }
   ],
   "source": [
    "misto_nehody1 = sources['bike_accidents']['misto_nehody'].unique()\n",
    "misto_nehody2 = sources['traffic_accidents']['misto_nehody'].unique()\n",
    "misto_nehody3 = sources['ped_accidents']['misto_nehody'].unique()\n",
    "\n",
    "misto_nehody4 = np.concatenate((misto_nehody1, misto_nehody2, misto_nehody3), axis=0)\n",
    "np.unique(misto_nehody4)"
   ]
  },
  {
   "cell_type": "code",
   "execution_count": 69,
   "id": "3458237c",
   "metadata": {},
   "outputs": [
    {
     "data": {
      "text/plain": [
       "array(['neděle', 'čtvrtek', 'středa', 'úterý', 'pondělí', 'pátek',\n",
       "       'sobota'], dtype=object)"
      ]
     },
     "execution_count": 69,
     "metadata": {},
     "output_type": "execute_result"
    }
   ],
   "source": [
    "# do I need the table for weekdays?\n",
    "sources['bike_accidents']['den_v_tydnu'].fillna(\"unknown\").astype(str).unique()"
   ]
  },
  {
   "cell_type": "code",
   "execution_count": 70,
   "id": "53b3d004",
   "metadata": {},
   "outputs": [],
   "source": [
    "# do I need the table for months?"
   ]
  },
  {
   "cell_type": "code",
   "execution_count": 71,
   "id": "a2860b88",
   "metadata": {},
   "outputs": [
    {
     "data": {
      "text/plain": [
       "array(['0-6', '12-15', '16-18', '19-24', '24-32', '33-44', '45-60',\n",
       "       '61-70', '7-11', '71 a více', 'unknown'], dtype=object)"
      ]
     },
     "execution_count": 71,
     "metadata": {},
     "output_type": "execute_result"
    }
   ],
   "source": [
    "vek_skupina1 = sources['bike_accidents']['vek_skupina'].fillna('unknown').unique()\n",
    "sources['traffic_accidents']['vek_skupina'] = 'unknown'\n",
    "# vek_skupina2\n",
    "vek_skupina3 = sources['ped_accidents']['vek_skupina'].fillna('unknown').unique()\n",
    "\n",
    "vek_skupina4 = np.concatenate((vek_skupina1, vek_skupina3), axis=0)\n",
    "np.unique(vek_skupina4)"
   ]
  },
  {
   "cell_type": "code",
   "execution_count": 72,
   "id": "5cd073f5",
   "metadata": {},
   "outputs": [
    {
     "data": {
      "text/plain": [
       "array(['0-6', '12-15', '16-18', '19-24', '24-32', '33-44', '45-60',\n",
       "       '61-70', '7-11', '71 a více', 'unknown'], dtype=object)"
      ]
     },
     "execution_count": 72,
     "metadata": {},
     "output_type": "execute_result"
    }
   ],
   "source": [
    "vek_skupina1 = sources['bike_accidents']['vek_skupina'].fillna('unknown').unique()\n",
    "# vek_skupina2\n",
    "vek_skupina3 = sources['ped_accidents']['vek_skupina'].fillna('unknown').unique()\n",
    "\n",
    "vek_skupina4 = np.concatenate((vek_skupina1, vek_skupina3), axis=0)\n",
    "np.unique(vek_skupina4)"
   ]
  },
  {
   "cell_type": "code",
   "execution_count": 73,
   "id": "57315f33",
   "metadata": {},
   "outputs": [
    {
     "data": {
      "text/plain": [
       "array(['chlapec (do 15 let)', 'dívka (do 15 let)', 'muž', 'unknown',\n",
       "       'žena'], dtype=object)"
      ]
     },
     "execution_count": 73,
     "metadata": {},
     "output_type": "execute_result"
    }
   ],
   "source": [
    "pohlavi1 = sources['bike_accidents']['pohlavi'].fillna(\"unknown\").astype(str).unique()\n",
    "pohlavi2 = sources['traffic_accidents']['pohlavi'].fillna(\"unknown\").astype(str).unique()\n",
    "pohlavi3 = sources['ped_accidents']['chodec_pohlavi'].fillna(\"unknown\").astype(str).unique()\n",
    "\n",
    "pohlavi4 = np.concatenate((pohlavi1, pohlavi2, pohlavi3), axis=0)\n",
    "np.unique(pohlavi4)"
   ]
  },
  {
   "cell_type": "code",
   "execution_count": 74,
   "id": "72946d6a",
   "metadata": {},
   "outputs": [
    {
     "name": "stdout",
     "output_type": "stream",
     "text": [
      "<class 'pandas.core.frame.DataFrame'>\n",
      "RangeIndex: 2604 entries, 0 to 2603\n",
      "Data columns (total 31 columns):\n",
      " #   Column             Non-Null Count  Dtype  \n",
      "---  ------             --------------  -----  \n",
      " 0   datum              2604 non-null   object \n",
      " 1   den                2604 non-null   int64  \n",
      " 2   rok                2604 non-null   int64  \n",
      " 3   mesic              2604 non-null   int64  \n",
      " 4   zavineni           2604 non-null   object \n",
      " 5   viditelnost        2604 non-null   object \n",
      " 6   cas                2604 non-null   int64  \n",
      " 7   hodina             2604 non-null   int64  \n",
      " 8   doba               2604 non-null   object \n",
      " 9   alkohol            2604 non-null   object \n",
      " 10  alkohol_vinik      2604 non-null   object \n",
      " 11  hlavni_pricina     2604 non-null   object \n",
      " 12  srazka             2604 non-null   object \n",
      " 13  pricina            2604 non-null   object \n",
      " 14  stav_vozovky       2604 non-null   object \n",
      " 15  povetrnostni_podm  2604 non-null   object \n",
      " 16  rozhled            2604 non-null   object \n",
      " 17  misto_nehody       2604 non-null   object \n",
      " 18  druh_komun         2604 non-null   object \n",
      " 19  usmrceno_os        2604 non-null   int64  \n",
      " 20  tezce_zran_os      2604 non-null   int64  \n",
      " 21  lehce_zran_os      2604 non-null   int64  \n",
      " 22  hmotna_skoda       2604 non-null   int64  \n",
      " 23  vek_skupina        2525 non-null   object \n",
      " 24  chodec_pohlavi     2590 non-null   object \n",
      " 25  stav_chodce        2604 non-null   object \n",
      " 26  chovani_chodce     2604 non-null   object \n",
      " 27  situace_nehody     2604 non-null   object \n",
      " 28  nasledky_chodce    2590 non-null   object \n",
      " 29  POINT_X            2602 non-null   float64\n",
      " 30  POINT_Y            2602 non-null   float64\n",
      "dtypes: float64(2), int64(9), object(20)\n",
      "memory usage: 630.8+ KB\n"
     ]
    }
   ],
   "source": [
    "# drop duplicite and obsolete columns\n",
    "# sources['ped_accidents'].info()\n",
    "sources['ped_accidents'].drop([\n",
    "    'X', \n",
    "    'Y', \n",
    "    'OBJECTID', \n",
    "    'id', \n",
    "    'd', \n",
    "    'e',\n",
    "    'mesic_t',\n",
    "    'den_v_tydnu',\n",
    "    'smrt',\n",
    "    'tz',\n",
    "    'lz',\n",
    "    'smrt_dny',\n",
    "    'smrt_po',\n",
    "    'prvni_pomoc',\n",
    "    'kategorie_chodce',\n",
    "    'nazev',\n",
    "    'GlobalID'\n",
    "], axis=1, inplace=True, errors='ignore')\n",
    "\n",
    "sources['ped_accidents'].info()\n"
   ]
  },
  {
   "cell_type": "code",
   "execution_count": 75,
   "id": "5db959cb",
   "metadata": {
    "scrolled": true
   },
   "outputs": [
    {
     "name": "stdout",
     "output_type": "stream",
     "text": [
      "<class 'pandas.core.frame.DataFrame'>\n",
      "RangeIndex: 1346 entries, 0 to 1345\n",
      "Data columns (total 30 columns):\n",
      " #   Column             Non-Null Count  Dtype  \n",
      "---  ------             --------------  -----  \n",
      " 0   datum              1346 non-null   object \n",
      " 1   den                1346 non-null   int64  \n",
      " 2   rok                1346 non-null   int64  \n",
      " 3   mesic              1346 non-null   int64  \n",
      " 4   srazka             1346 non-null   object \n",
      " 5   pricina            1346 non-null   object \n",
      " 6   alkohol            1346 non-null   object \n",
      " 7   zavineni           1346 non-null   object \n",
      " 8   stav_vozovky       1346 non-null   object \n",
      " 9   povetrnostni_podm  1346 non-null   object \n",
      " 10  viditelnost        1346 non-null   object \n",
      " 11  rozhled            1346 non-null   object \n",
      " 12  misto_nehody       1346 non-null   object \n",
      " 13  druh_komun         1346 non-null   object \n",
      " 14  druh_vozidla       1346 non-null   object \n",
      " 15  stav_ridic         1319 non-null   object \n",
      " 16  ovlivneni_ridice   1319 non-null   float64\n",
      " 17  osoba              1319 non-null   object \n",
      " 18  ozn_osoba          1319 non-null   object \n",
      " 19  pohlavi            1319 non-null   object \n",
      " 20  nasledek           1319 non-null   object \n",
      " 21  usmrceno_os        1346 non-null   int64  \n",
      " 22  tezce_zran_os      1346 non-null   int64  \n",
      " 23  lehce_zran_os      1346 non-null   int64  \n",
      " 24  hmotna_skoda       1346 non-null   int64  \n",
      " 25  cas                1346 non-null   int64  \n",
      " 26  hodina             1342 non-null   float64\n",
      " 27  vek_skupina        1318 non-null   object \n",
      " 28  point_x            1346 non-null   float64\n",
      " 29  point_y            1346 non-null   float64\n",
      "dtypes: float64(4), int64(8), object(18)\n",
      "memory usage: 315.6+ KB\n"
     ]
    }
   ],
   "source": [
    "sources['bike_accidents'].drop([\n",
    "    'X', \n",
    "    'Y', \n",
    "    'objectid',\n",
    "    'join_count',\n",
    "    'target_fid',\n",
    "    'id', \n",
    "    'd', \n",
    "    'e',\n",
    "    'nazev',\n",
    "    'mesic_t',\n",
    "    'den_v_tydnu',\n",
    "    'globalid',\n",
    "    'nasledky'\n",
    "], axis=1, inplace=True, errors='ignore')\n",
    "\n",
    "sources['bike_accidents'].info()\n",
    "\n"
   ]
  },
  {
   "cell_type": "code",
   "execution_count": 76,
   "id": "6ad11162",
   "metadata": {},
   "outputs": [
    {
     "name": "stdout",
     "output_type": "stream",
     "text": [
      "<class 'pandas.core.frame.DataFrame'>\n",
      "RangeIndex: 66059 entries, 0 to 66058\n",
      "Data columns (total 33 columns):\n",
      " #   Column             Non-Null Count  Dtype  \n",
      "---  ------             --------------  -----  \n",
      " 0   datum              66059 non-null  object \n",
      " 1   den                66059 non-null  int64  \n",
      " 2   rok                66059 non-null  int64  \n",
      " 3   mesic              66059 non-null  int64  \n",
      " 4   zavineni           66059 non-null  object \n",
      " 5   viditelnost        66059 non-null  object \n",
      " 6   cas                66059 non-null  int64  \n",
      " 7   hodina             66059 non-null  int64  \n",
      " 8   doba               66059 non-null  object \n",
      " 9   alkohol            66059 non-null  object \n",
      " 10  alkohol_vinik      66059 non-null  object \n",
      " 11  hlavni_pricina     66059 non-null  object \n",
      " 12  srazka             66059 non-null  object \n",
      " 13  pricina            66059 non-null  object \n",
      " 14  stav_vozovky       66059 non-null  object \n",
      " 15  povetrnostni_podm  66059 non-null  object \n",
      " 16  rozhled            66059 non-null  object \n",
      " 17  misto_nehody       66059 non-null  object \n",
      " 18  druh_komun         66059 non-null  object \n",
      " 19  usmrceno_os        66059 non-null  int64  \n",
      " 20  tezce_zran_os      66059 non-null  int64  \n",
      " 21  lehce_zran_os      66059 non-null  int64  \n",
      " 22  hmotna_skoda       66059 non-null  int64  \n",
      " 23  druh_vozidla       66059 non-null  object \n",
      " 24  stav_ridic         47166 non-null  object \n",
      " 25  ovlivneni_ridice   47166 non-null  float64\n",
      " 26  osoba              49845 non-null  object \n",
      " 27  ozn_osoba          47241 non-null  object \n",
      " 28  pohlavi            49831 non-null  object \n",
      " 29  nasledek           49831 non-null  object \n",
      " 30  POINT_X            65733 non-null  float64\n",
      " 31  POINT_Y            65733 non-null  float64\n",
      " 32  vek_skupina        66059 non-null  object \n",
      "dtypes: float64(3), int64(9), object(21)\n",
      "memory usage: 16.6+ MB\n"
     ]
    }
   ],
   "source": [
    "sources['traffic_accidents'].drop([\n",
    "    'X', \n",
    "    'Y', \n",
    "    'OBJECTID',\n",
    "    'id', \n",
    "    'd', \n",
    "    'e',\n",
    "    'mesic_t',\n",
    "    'den_v_tydnu',\n",
    "    'smrt',\n",
    "    'tz',\n",
    "    'lz',\n",
    "    'smrt_dny',\n",
    "    'smrt_po',\n",
    "    'GlobalID'\n",
    "], axis=1, inplace=True, errors='ignore')\n",
    "\n",
    "sources['traffic_accidents'].info()\n"
   ]
  },
  {
   "cell_type": "code",
   "execution_count": 77,
   "id": "f964eab4",
   "metadata": {
    "scrolled": true
   },
   "outputs": [],
   "source": [
    "# Rename columns of all datasets to their English equivalents\n",
    "sources['ped_accidents'] = sources['ped_accidents'].rename(\n",
    "    columns=columns_renaming\n",
    ").dropna(\n",
    "    subset=[\"point_x\", \"point_y\"]\n",
    ").replace(\n",
    "    srazka_category\n",
    ").replace(\n",
    "    pricina_category\n",
    ").replace(\n",
    "    alkohol_category\n",
    ").replace(\n",
    "    zavineni_category\n",
    ").replace(\n",
    "    stav_vozovky_category\n",
    ").replace(\n",
    "    povetrnostni_podm_category\n",
    ").replace(\n",
    "    misto_nehody_category\n",
    ").replace(\n",
    "    viditelnost_category\n",
    ").replace(\n",
    "    rozhled_category\n",
    ").replace(\n",
    "    misto_nehody_category\n",
    ").replace(\n",
    "    druh_komun_category\n",
    ").replace(\n",
    "    druh_vozidla_category\n",
    ").replace(\n",
    "     stav_osoby_category\n",
    ").replace(\n",
    "    osoba_category\n",
    ").replace(\n",
    "    pohlavi_category\n",
    ").replace(\n",
    "    vek_skupina_category\n",
    ").replace(\n",
    "    nasledek_category\n",
    ").replace(\n",
    "    chovani_chodce_category\n",
    ").replace(\n",
    "    chodec_situace_category\n",
    ")\n",
    "sources['ped_accidents']['person'] = \"pedestrian\"\n",
    "sources['ped_accidents']['vehicle_type'] = \"pedestrian\"\n"
   ]
  },
  {
   "cell_type": "code",
   "execution_count": 78,
   "id": "3c9118d7",
   "metadata": {},
   "outputs": [],
   "source": [
    "sources[\"traffic_accidents\"] = sources[\"traffic_accidents\"].rename(\n",
    "    columns=columns_renaming\n",
    ").dropna(\n",
    "    subset=[\"point_x\", \"point_y\"]\n",
    ").replace(\n",
    "    srazka_category\n",
    ").replace(\n",
    "    pricina_category\n",
    ").replace(\n",
    "    alkohol_category\n",
    ").replace(\n",
    "    zavineni_category\n",
    ").replace(\n",
    "    stav_vozovky_category\n",
    ").replace(\n",
    "    povetrnostni_podm_category\n",
    ").replace(\n",
    "    misto_nehody_category\n",
    ").replace(\n",
    "    viditelnost_category\n",
    ").replace(\n",
    "    rozhled_category\n",
    ").replace(\n",
    "    misto_nehody_category\n",
    ").replace(\n",
    "    druh_komun_category\n",
    ").replace(\n",
    "    druh_vozidla_category\n",
    ").replace(\n",
    "     stav_osoby_category\n",
    ").replace(\n",
    "    osoba_category\n",
    ").replace(\n",
    "    pohlavi_category\n",
    ").replace(\n",
    "    vek_skupina_category\n",
    ").replace(\n",
    "    nasledek_category\n",
    ").replace(\n",
    "    chovani_chodce_category\n",
    ").replace(\n",
    "    chodec_situace_category\n",
    ")\n",
    "\n",
    "# this column is missing, for consistency, it is created and filled as \"unknown\"\n",
    "sources[\"traffic_accidents\"]['age_group'] = \"unknown\"\n",
    "sources['traffic_accidents']['accident_circumstances'] = 'unknown'"
   ]
  },
  {
   "cell_type": "code",
   "execution_count": 79,
   "id": "4e9f0ecb",
   "metadata": {},
   "outputs": [],
   "source": [
    "sources[\"bike_accidents\"] = sources[\"bike_accidents\"].rename(\n",
    "    columns=columns_renaming\n",
    ").dropna(subset=[\"point_x\", \"point_y\"]\n",
    "        ).replace(\n",
    "    srazka_category\n",
    ").replace(\n",
    "    pricina_category\n",
    ").replace(\n",
    "    alkohol_category\n",
    ").replace(\n",
    "    zavineni_category\n",
    ").replace(\n",
    "    stav_vozovky_category\n",
    ").replace(\n",
    "    povetrnostni_podm_category\n",
    ").replace(\n",
    "    misto_nehody_category\n",
    ").replace(\n",
    "    viditelnost_category\n",
    ").replace(\n",
    "    rozhled_category\n",
    ").replace(\n",
    "    misto_nehody_category\n",
    ").replace(\n",
    "    druh_komun_category\n",
    ").replace(\n",
    "    druh_vozidla_category\n",
    ").replace(\n",
    "    stav_osoby_category\n",
    ").replace(\n",
    "    osoba_category\n",
    ").replace(\n",
    "    pohlavi_category\n",
    ").replace(\n",
    "    vek_skupina_category\n",
    ").replace(\n",
    "    nasledek_category\n",
    ").replace(\n",
    "    chovani_chodce_category\n",
    ").replace(\n",
    "    chodec_situace_category\n",
    ")\n",
    "sources['bike_accidents']['accident_circumstances'] = 'unknown'"
   ]
  },
  {
   "cell_type": "code",
   "execution_count": 80,
   "id": "49ed78cc",
   "metadata": {},
   "outputs": [],
   "source": [
    "# add padding and convert to time format\n",
    "sources['bike_accidents']['hour'] = sources['bike_accidents']['hour'].fillna(\"00\")\n",
    "sources['bike_accidents']['minute'] = sources['bike_accidents']['time'].astype(str).str.zfill(4).map(lambda x: x[2:])\n",
    "\n",
    "sources['traffic_accidents']['hour'] = sources['traffic_accidents']['hour'].fillna(\"00\")\n",
    "sources['traffic_accidents']['minute'] = sources['traffic_accidents']['time'].astype(str).str.zfill(4).map(lambda x: x[2:])\n",
    "\n",
    "sources['ped_accidents']['hour'] = sources['ped_accidents']['hour'].fillna(\"00\")\n",
    "sources['ped_accidents']['minute'] = sources['ped_accidents']['time'].astype(str).str.zfill(4).map(lambda x: x[2:])\n",
    "\n",
    "\n",
    "# build whole datetime and save it to datetime column\n",
    "\n",
    "sources['bike_accidents']['datetime'] = pd.to_datetime(\n",
    "    sources['bike_accidents'][\n",
    "        [\n",
    "            'year', \n",
    "            'month', \n",
    "            'day',\n",
    "            'hour',\n",
    "            'minute'\n",
    "        ]\n",
    "    ],\n",
    "    format=\"%Y%m%d%H%M\",\n",
    "    errors='raise'\n",
    ").astype('str')\n",
    "\n",
    "sources['traffic_accidents']['datetime'] = pd.to_datetime(\n",
    "    sources['traffic_accidents'][\n",
    "        [\n",
    "            'year', \n",
    "            'month', \n",
    "            'day',\n",
    "            'hour',\n",
    "            'minute'\n",
    "        ]\n",
    "    ],\n",
    "    format=\"%Y%m%d%H%M\",\n",
    "    errors='raise'\n",
    ").astype('str')\n",
    "\n",
    "sources['ped_accidents']['datetime'] = pd.to_datetime(\n",
    "    sources['ped_accidents'][\n",
    "        [\n",
    "            'year', \n",
    "            'month', \n",
    "            'day',\n",
    "            'hour',\n",
    "            'minute'\n",
    "        ]\n",
    "    ],\n",
    "    format=\"%Y%m%d%H%M\",\n",
    "    errors='raise'\n",
    ").astype('str')\n",
    "# otherwise nothing needed"
   ]
  },
  {
   "cell_type": "code",
   "execution_count": 81,
   "id": "b3754e55",
   "metadata": {},
   "outputs": [],
   "source": [
    "night_start = dt.time(22, 0)\n",
    "night_end = dt.time(6, 0)\n",
    "eod = dt.time(23, 59)\n",
    "midnight = dt.time(0, 0)\n",
    "\n",
    "sources['ped_accidents']['day_night'] = pd.to_datetime(sources['ped_accidents']['datetime']).apply(lambda x: 'night' if night_start < x.time() < eod or midnight < x.time() < night_end else 'day' )\n",
    "sources['bike_accidents']['day_night'] = pd.to_datetime(sources['bike_accidents']['datetime']).apply(lambda x: 'night' if night_start < x.time() < eod or midnight < x.time() < night_end else 'day' )\n",
    "sources['traffic_accidents']['day_night'] = pd.to_datetime(sources['traffic_accidents']['datetime']).apply(lambda x: 'night' if night_start < x.time() < eod or midnight < x.time() < night_end else 'day' )"
   ]
  },
  {
   "cell_type": "code",
   "execution_count": 82,
   "id": "03fe77d7",
   "metadata": {},
   "outputs": [
    {
     "data": {
      "text/plain": [
       "array([1, 2, 3, 4])"
      ]
     },
     "execution_count": 82,
     "metadata": {},
     "output_type": "execute_result"
    }
   ],
   "source": [
    "# assign total number of all parties involved to each accident record\n",
    "common_columns = [\"point_x\", \"point_y\", \"datetime\"]\n",
    "sources['ped_accidents'].dropna(subset=common_columns, inplace=True)\n",
    "sources['ped_accidents']['no_parties'] = sources['ped_accidents'].groupby(by=common_columns)[\"point_x\"].transform('size')\n",
    "                         \n",
    "sources['ped_accidents']['no_parties'].unique()\n"
   ]
  },
  {
   "cell_type": "code",
   "execution_count": 83,
   "id": "6578507a",
   "metadata": {},
   "outputs": [
    {
     "data": {
      "text/plain": [
       "array([ 1,  2, 14,  3])"
      ]
     },
     "execution_count": 83,
     "metadata": {},
     "output_type": "execute_result"
    }
   ],
   "source": [
    "sources['bike_accidents']['no_parties'] = sources['bike_accidents'].groupby(by=common_columns)[\"point_x\"].transform('size')\n",
    "\n",
    "sources['bike_accidents']['no_parties'].unique()\n"
   ]
  },
  {
   "cell_type": "code",
   "execution_count": 84,
   "id": "c9374e4c",
   "metadata": {},
   "outputs": [
    {
     "data": {
      "text/plain": [
       "array([ 1,  2,  3,  5,  4, 14,  6,  7,  9,  8, 15, 10, 11, 17, 21, 12, 18,\n",
       "       43])"
      ]
     },
     "execution_count": 84,
     "metadata": {},
     "output_type": "execute_result"
    }
   ],
   "source": [
    "sources['traffic_accidents']['no_parties'] = sources['traffic_accidents'].groupby(by=common_columns)[\"point_x\"].transform('size')\n",
    "\n",
    "sources['traffic_accidents']['no_parties'].unique()\n"
   ]
  },
  {
   "cell_type": "code",
   "execution_count": 85,
   "id": "9532bef6",
   "metadata": {},
   "outputs": [],
   "source": [
    "# Fix columns with discrepant values - no_injured_minor\n",
    "\n",
    "sources['traffic_accidents'].loc[sources['traffic_accidents']['datetime'] == \"2011-11-04 10:58:00\", 'no_injured_minor'] = 3\n",
    "\n",
    "sources['traffic_accidents'].loc[sources['traffic_accidents']['datetime'] == \"2018-09-03 19:40:00\", 'no_injured_minor'] = 2\n",
    "\n",
    "sources['traffic_accidents'].loc[sources['traffic_accidents']['datetime'] == \"2016-09-02 17:41:00\",  'no_injured_minor'] = 1\n",
    "\n",
    "sources['traffic_accidents'].loc[sources['traffic_accidents']['datetime'] == \"2018-01-01 08:00:00\",  'no_injured_minor'] = 2\n"
   ]
  },
  {
   "cell_type": "code",
   "execution_count": 86,
   "id": "b9e7d01c",
   "metadata": {},
   "outputs": [],
   "source": [
    "# Fix columns with discrepant values - weather\n",
    "\n",
    "sources['traffic_accidents'].loc[np.isclose(sources['traffic_accidents']['point_x'].astype(np.float64), 16.601029) & (sources['traffic_accidents']['datetime'] == \"2020-02-02 02:00:00\"), 'weather'] = 'beginning of the rain, light rain, drizzling etc.'\n",
    "\n",
    "sources['traffic_accidents'].loc[np.isclose(sources['traffic_accidents']['point_x'].astype(np.float64), 16.68347) & (sources['traffic_accidents']['datetime'] == \"2018-01-01 08:00:00\"), 'weather'] = 'beginning of the rain, light rain, drizzling etc.' \n",
    "\n"
   ]
  },
  {
   "cell_type": "code",
   "execution_count": 87,
   "id": "741ebbcc",
   "metadata": {},
   "outputs": [],
   "source": [
    "# Fix columns with discrepant values - no_casualties\n",
    "\n",
    "sources['traffic_accidents'].loc[np.isclose(sources['traffic_accidents']['point_x'].astype(np.float64), 16.562423) & (sources['traffic_accidents']['datetime'] == \"2018-01-01 07:00:00\"), 'no_casualties'] = 1"
   ]
  },
  {
   "cell_type": "code",
   "execution_count": 88,
   "id": "b35c4ce1",
   "metadata": {},
   "outputs": [],
   "source": [
    "# Fix columns with discrepant values - visibility\n",
    "\n",
    "sources['traffic_accidents'].loc[np.isclose(sources['traffic_accidents']['point_x'].astype(np.float64), 16.502474) & (sources['traffic_accidents']['datetime'] == \"2016-04-06 02:00:00\"), 'visibility'] = 'at night - with public lighting, visibility unimpaired due to weather conditions'\n",
    "\n",
    "sources['traffic_accidents'].loc[np.isclose(sources['traffic_accidents']['point_x'].astype(np.float64), 16.542810) & (sources['traffic_accidents']['datetime'] == \"2017-12-04 14:50:00\"), 'visibility'] = 'during the day, poor visibility due to weather conditions (fog, snow, rain, etc.)'\n",
    "\n",
    "sources['traffic_accidents'].loc[np.isclose(sources['traffic_accidents']['point_x'].astype(np.float64), 16.581285) & (sources['traffic_accidents']['datetime'] == \"2017-08-07 02:00:00\"), 'visibility'] = 'at night - with public lighting, visibility unimpaired due to weather conditions'"
   ]
  },
  {
   "cell_type": "code",
   "execution_count": 89,
   "id": "7a65ada4",
   "metadata": {},
   "outputs": [],
   "source": [
    "# Fix columns with discrepant values - cause\n",
    "\n",
    "sources['traffic_accidents'].loc[np.isclose(sources['traffic_accidents']['point_x'].astype(np.float64), 16.502474) & (sources['traffic_accidents']['datetime'] == \"2016-04-06 02:00:00\"), 'cause'] = 'technical defects'\n",
    "\n",
    "sources['traffic_accidents'].loc[np.isclose(sources['traffic_accidents']['point_x'].astype(np.float64), 16.601029) & (sources['traffic_accidents']['datetime'] == \"2020-02-02 02:00:00\"), 'cause'] = 'speed adjustment'\n",
    "\n",
    "sources['traffic_accidents'].loc[np.isclose(sources['traffic_accidents']['point_x'].astype(np.float64), 16.613128) & (sources['traffic_accidents']['datetime'] == \"2017-01-05 08:55:00\"), 'cause'] = 'safe distance'"
   ]
  },
  {
   "cell_type": "code",
   "execution_count": 90,
   "id": "12c3a4c9",
   "metadata": {},
   "outputs": [],
   "source": [
    "# Fix columns with discrepant values - road_type\n",
    "\n",
    "sources['traffic_accidents'].loc[np.isclose(sources['traffic_accidents']['point_x'].astype(np.float64), 16.561663) & (sources['traffic_accidents']['datetime'] == \"2018-04-08 02:00:00\"), 'road_type'] = 'controlled road (in specific areas)'\n",
    "sources['traffic_accidents'].loc[np.isclose(sources['traffic_accidents']['point_x'].astype(np.float64), 16.601029) & (sources['traffic_accidents']['datetime'] == \"2020-02-02 02:00:00\"), 'road_type'] = 'road junction (crossroad controlled in specific areas)'"
   ]
  },
  {
   "cell_type": "code",
   "execution_count": 91,
   "id": "276f80f0",
   "metadata": {},
   "outputs": [],
   "source": [
    "# Fix columns with discrepant values - road_condition\n",
    "\n",
    "sources['traffic_accidents'].loc[np.isclose(sources['traffic_accidents']['point_x'].astype(np.float64), 16.610397) & (sources['traffic_accidents']['datetime'] == \"2013-01-04 02:00:00\"), 'road_condition'] = 'ice on the road - untreated'"
   ]
  },
  {
   "cell_type": "code",
   "execution_count": 92,
   "id": "0aae3d2c",
   "metadata": {},
   "outputs": [],
   "source": [
    "# Fix columns with discrepant values - alcohol\n",
    "\n",
    "sources['traffic_accidents'].loc[np.isclose(sources['traffic_accidents']['point_x'].astype(np.float64), 16.562423) & (sources['traffic_accidents']['datetime'] == \"2018-01-01 07:00:00\"), 'alcohol'] = 'DUI - drugs'\n",
    "\n",
    "sources['traffic_accidents'].loc[np.isclose(sources['traffic_accidents']['point_x'].astype(np.float64), 16.601029) & (sources['traffic_accidents']['datetime'] == \"2020-02-02 02:00:00\"), 'alcohol'] = 'No'"
   ]
  },
  {
   "cell_type": "code",
   "execution_count": 93,
   "id": "faea1b1d",
   "metadata": {},
   "outputs": [],
   "source": [
    "# Fix columns with discrepant values - collision_with\n",
    "\n",
    "sources['traffic_accidents'].loc[np.isclose(sources['traffic_accidents']['point_x'].astype(np.float64), 16.508264) & (sources['traffic_accidents']['datetime'] == \"2011-11-04 10:58:00\"), 'collision_with'] = 'other'\n",
    "sources['traffic_accidents'].loc[np.isclose(sources['traffic_accidents']['point_x'].astype(np.float64), 16.562423) & (sources['traffic_accidents']['datetime'] == \"2018-01-01 07:00:00\"), 'collision_with'] = 'collision with a pedestrian'\n",
    "sources['traffic_accidents'].loc[np.isclose(sources['traffic_accidents']['point_x'].astype(np.float64), 16.572499) & (sources['traffic_accidents']['datetime'] == \"2013-05-02 02:00:00\"), 'collision_with'] = 'collision with parked vehicle'\n",
    "sources['traffic_accidents'].loc[np.isclose(sources['traffic_accidents']['point_x'].astype(np.float64), 16.648129) & (sources['traffic_accidents']['datetime'] == \"2016-09-02 17:41:00\"), 'collision_with'] = 'collision with a moving non-rail vehicle'"
   ]
  },
  {
   "cell_type": "code",
   "execution_count": 94,
   "id": "fbcaeba8",
   "metadata": {},
   "outputs": [],
   "source": [
    "# Fix columns with discrepant values - accident_place\n",
    "\n",
    "sources['traffic_accidents'].loc[np.isclose(sources['traffic_accidents']['point_x'].astype(np.float64), 16.572499) & (sources['traffic_accidents']['datetime'] == \"2013-05-02 02:00:00\"), 'accident_place'] = 'parking lot adjacent to the road'\n",
    "sources['traffic_accidents'].loc[np.isclose(sources['traffic_accidents']['point_x'].astype(np.float64), 16.597972) & (sources['traffic_accidents']['datetime'] == \"2020-06-05 02:00:00\"), 'accident_place'] = 'parking lot adjacent to the road'\n",
    "sources['traffic_accidents'].loc[np.isclose(sources['traffic_accidents']['point_x'].astype(np.float64), 16.641332) & (sources['traffic_accidents']['datetime'] == \"2014-09-07 02:00:00\"), 'accident_place'] = 'none of the above'\n",
    "sources['traffic_accidents'].loc[np.isclose(sources['traffic_accidents']['point_x'].astype(np.float64), 16.642706) & (sources['traffic_accidents']['datetime'] == \"2015-11-05 02:00:00\"), 'accident_place'] = 'pedestrain crossing'"
   ]
  },
  {
   "cell_type": "code",
   "execution_count": 146,
   "id": "e1685caa",
   "metadata": {
    "scrolled": true
   },
   "outputs": [],
   "source": [
    "# merge data -> one row = one accident\n",
    "common_columns = [\n",
    "    'point_x', \n",
    "    'point_y', \n",
    "    'datetime', \n",
    "    'day_night', \n",
    "    'no_parties', \n",
    "    'caused_by', \n",
    "    'visibility', \n",
    "    'alcohol',\n",
    "    'collision_with', \n",
    "    'cause', \n",
    "    'road_condition', \n",
    "    'weather', \n",
    "    'view_condition',\n",
    "    'accident_place', \n",
    "    'road_type', \n",
    "    'no_casualties', \n",
    "    'no_injured_major', \n",
    "    'no_injured_minor',             \n",
    "    'accident_circumstances'\n",
    "]\n",
    "\n",
    "aggr_dict = {\n",
    "    'sex': set,\n",
    "    'age_group': set,\n",
    "    'consequence': set,\n",
    "    'person': set,\n",
    "    'person_condition': set,\n",
    "    'vehicle_type': set,\n",
    "    'material_damage_price': sum,\n",
    "}\n"
   ]
  },
  {
   "cell_type": "code",
   "execution_count": 147,
   "id": "3dd77732",
   "metadata": {},
   "outputs": [
    {
     "data": {
      "text/plain": [
       "30876"
      ]
     },
     "execution_count": 147,
     "metadata": {},
     "output_type": "execute_result"
    }
   ],
   "source": [
    "traffic_accidents_merged = sources['traffic_accidents'].fillna(\"unknown\").groupby(by=common_columns).aggregate(aggr_dict\n",
    ")\n",
    "traffic_accidents_merged = traffic_accidents_merged.reset_index() \n",
    "\n",
    "len(traffic_accidents_merged) # should be 30876"
   ]
  },
  {
   "cell_type": "code",
   "execution_count": 148,
   "id": "7283d8c4",
   "metadata": {},
   "outputs": [
    {
     "data": {
      "text/plain": [
       "2495"
      ]
     },
     "execution_count": 148,
     "metadata": {},
     "output_type": "execute_result"
    }
   ],
   "source": [
    "ped_accidents_merged = sources['ped_accidents'].fillna(\"unknown\").groupby(by=common_columns).aggregate(aggr_dict)\n",
    "ped_accidents_merged = ped_accidents_merged.reset_index() \n",
    "len(ped_accidents_merged) # should be 2496"
   ]
  },
  {
   "cell_type": "code",
   "execution_count": 149,
   "id": "421acbf0",
   "metadata": {
    "scrolled": true
   },
   "outputs": [
    {
     "data": {
      "text/plain": [
       "1274"
      ]
     },
     "execution_count": 149,
     "metadata": {},
     "output_type": "execute_result"
    }
   ],
   "source": [
    "\n",
    "bike_accidents_merged = sources['bike_accidents'].fillna(\"unknown\").groupby(by=common_columns).aggregate(aggr_dict)\n",
    "bike_accidents_merged = bike_accidents_merged.reset_index() \n",
    "\n",
    "len(bike_accidents_merged)  # should be 1274"
   ]
  },
  {
   "cell_type": "code",
   "execution_count": 154,
   "id": "cf31775e",
   "metadata": {
    "scrolled": true
   },
   "outputs": [
    {
     "data": {
      "text/plain": [
       "220637300"
      ]
     },
     "execution_count": 154,
     "metadata": {},
     "output_type": "execute_result"
    }
   ],
   "source": []
  },
  {
   "cell_type": "code",
   "execution_count": 156,
   "id": "1b76ff61",
   "metadata": {},
   "outputs": [
    {
     "data": {
      "text/plain": [
       "1050000"
      ]
     },
     "execution_count": 156,
     "metadata": {},
     "output_type": "execute_result"
    }
   ],
   "source": []
  },
  {
   "cell_type": "code",
   "execution_count": 150,
   "id": "666d3933",
   "metadata": {},
   "outputs": [],
   "source": [
    "# convert sets back to lists\n",
    "for col in aggr_dict.keys():\n",
    "    if col == 'material_damage_price':\n",
    "        continue\n",
    "    traffic_accidents_merged[col] = traffic_accidents_merged[col].apply(list)\n",
    "    bike_accidents_merged[col] = bike_accidents_merged[col].apply(list)    \n",
    "    ped_accidents_merged[col] = ped_accidents_merged[col].apply(list)    "
   ]
  },
  {
   "cell_type": "code",
   "execution_count": 151,
   "id": "6324aaa0",
   "metadata": {},
   "outputs": [],
   "source": [
    "# columns = [\"POINT_Y\", \"POINT_X\", \"datetime\", \"zavineni\", \"viditelnost\", \"cas\", \"hodina\", \"mesic_t\", \"doba\", \"den_v_tydnu\", \"alkohol\", \"alkohol_vinik\", \"hlavni_pricina\", \"srazka\", \"pricina\", \"stav_vozovky\", \"povetrnostni_podm\", \"rozhled\", \"misto_nehody\", \"druh_komun\", \"usmrceno_os\", \"tezce_zran_os\", \"lehce_zran_os\", \"hmotna_skoda\", \"smrt\", \"smrt_dny\", \"vek_skupina\", \"chodec_pohlavi\", \"stav_chodce\", \"chovani_chodce\", \"situace_nehody\", \"prvni_pomoc\", \"nasledky_chodce\", \"nazev\"]\n",
    "ped_accidents_dict = ped_accidents_merged.to_dict(orient=\"records\")\n",
    "with open(path_prefix + \"ped_accidents.js\", \"w\") as out:\n",
    "    out.write(\"const pedestrian_accidents_json = \" + str(ped_accidents_dict))"
   ]
  },
  {
   "cell_type": "code",
   "execution_count": 152,
   "id": "b080157d",
   "metadata": {},
   "outputs": [],
   "source": [
    "# columns = [\"POINT_Y\", \"POINT_X\", \"datetime\", \"zavineni\", \"viditelnost\", \"cas\", \"hodina\", \"mesic_t\", \"doba\", \"den_v_tydnu\", \"alkohol\", \"alkohol_vinik\", \"hlavni_pricina\", \"srazka\", \"pricina\", \"stav_vozovky\", \"povetrnostni_podm\", \"rozhled\", \"misto_nehody\", \"druh_komun\", \"usmrceno_os\", \"tezce_zran_os\", \"lehce_zran_os\", \"hmotna_skoda\", \"smrt\", \"smrt_dny\", \"druh_vozidla\", \"stav_ridic\", \"ovlivneni_ridice\", \"osoba\", \"ozn_osoba\", \"pohlavi\", \"nasledek\"]\n",
    "traffic_accidents_dict = traffic_accidents_merged.to_dict(orient=\"records\")\n",
    "with open(path_prefix + \"traffic_accidents.js\", \"w\") as out:\n",
    "    out.write(\"const traffic_accidents_json = \" + str(traffic_accidents_dict))"
   ]
  },
  {
   "cell_type": "code",
   "execution_count": 153,
   "id": "6e2e55d7",
   "metadata": {},
   "outputs": [],
   "source": [
    "columns = [\"point_y\", \"point_x\", \"datetime\", \"pricina\", \"alkohol\", \"zavineni\", \"nasledky\", \"stav_vozovky\", \"povetrnostni_podm\", \"viditelnost\", \"rozhled\", \"misto_nehody\", \"druh_komun\", \"druh_vozidla\", \"stav_ridic\", \"ovlivneni_ridice\", \"osoba\", \"ozn_osoba\", \"pohlavi\", \"nasledek\", \"usmrceno_os\", \"tezce_zran_os\", \"lehce_zran_os\", \"hmotna_skoda\", \"cas\", \"hodina\", \"den_v_tydnu\", \"vek_skupina\", \"nazev\"]\n",
    "bike_accidents_dict = bike_accidents_merged.to_dict(orient=\"records\")\n",
    "with open(path_prefix + \"bike_accidents.js\", \"w\") as out:\n",
    "    out.write(\"const bike_accidents_json = \" + str(bike_accidents_dict))"
   ]
  },
  {
   "cell_type": "code",
   "execution_count": 103,
   "id": "688a9c7b",
   "metadata": {
    "scrolled": true
   },
   "outputs": [],
   "source": [
    "columns = [\"Y\", \"X\", \"datum_instalace\"]\n",
    "sources[\"street_lights\"][columns].to_json(path_prefix  + \"street_lights.json\", orient=\"records\")"
   ]
  },
  {
   "cell_type": "code",
   "execution_count": 104,
   "id": "20ecd9f6",
   "metadata": {},
   "outputs": [],
   "source": [
    "columns = [\"Y\", \"X\", \"stop_name\"]\n",
    "sources[\"pub_trans_stops\"][columns].to_json(path_prefix + \"pub_trans_stops.json\", orient=\"records\")"
   ]
  },
  {
   "cell_type": "code",
   "execution_count": 105,
   "id": "a1036fc3",
   "metadata": {},
   "outputs": [
    {
     "data": {
      "text/plain": [
       "array(['Jízda cyklistů v protisměru (piktogram)',\n",
       "       'Piktogramový koridor pro cyklisty - V20',\n",
       "       'Vyhrazený jízdní pruh pro cyklisty - V14',\n",
       "       'Vjezd cyklistům povolen', 'Jízda cyklistů v protisměru - E12',\n",
       "       'Zákaz vjezdu všech motorových vozidel - B11',\n",
       "       'Stezka pro chodce a cyklisty (nedělená) - C9', 'Úsek byl zrušen',\n",
       "       'Stezka pro chodce s povoleným vjezdem cyklistů',\n",
       "       'Přejezd pro cyklisty',\n",
       "       'Jízda cyklistů v protisměru (jízdní pruh)',\n",
       "       'Stezka pro chodce a cyklisty (dělená) - C10',\n",
       "       'Ochranný jízdní pruh pro cyklisty', 'Stezka pro cyklisty - C8',\n",
       "       'Vjezd cyklistům zakázán', 'Vyhrazený pruh pro taxi, cyklo, bus',\n",
       "       'Ostatní'], dtype=object)"
      ]
     },
     "execution_count": 105,
     "metadata": {},
     "output_type": "execute_result"
    }
   ],
   "source": [
    "# shapefiles processing\n",
    "cycling_infrastructure = gpd.read_file('sources/raw/cycling_infrastructure.zip')\n",
    "cycling_infrastructure['typ_opatre'].unique()"
   ]
  },
  {
   "cell_type": "code",
   "execution_count": 106,
   "id": "04165e88",
   "metadata": {},
   "outputs": [
    {
     "name": "stdout",
     "output_type": "stream",
     "text": [
      "<class 'geopandas.geodataframe.GeoDataFrame'>\n",
      "RangeIndex: 596 entries, 0 to 595\n",
      "Data columns (total 9 columns):\n",
      " #   Column      Non-Null Count  Dtype   \n",
      "---  ------      --------------  -----   \n",
      " 0   ObjectId    596 non-null    int64   \n",
      " 1   ogcfid      596 non-null    int64   \n",
      " 2   typ_opatre  596 non-null    object  \n",
      " 3   rok_realiz  595 non-null    float64 \n",
      " 4   delka       595 non-null    float64 \n",
      " 5   datum_expo  596 non-null    object  \n",
      " 6   GlobalID    596 non-null    object  \n",
      " 7   SHAPE_Leng  596 non-null    float64 \n",
      " 8   geometry    594 non-null    geometry\n",
      "dtypes: float64(3), geometry(1), int64(2), object(3)\n",
      "memory usage: 42.0+ KB\n"
     ]
    }
   ],
   "source": [
    "cycling_infrastructure.info()"
   ]
  },
  {
   "cell_type": "code",
   "execution_count": 107,
   "id": "36c73ba1",
   "metadata": {},
   "outputs": [],
   "source": [
    "cycling_infrastructure_translation_table = {\n",
    "        'Jízda cyklistů v protisměru (piktogram)': 'Cyclists riding in the opposite direction',\n",
    "        'Piktogramový koridor pro cyklisty - V20': 'Marked corridor for cyclists',\n",
    "        'Vyhrazený jízdní pruh pro cyklisty - V14': 'Dedicated bicycle lane',\n",
    "        'Vjezd cyklistům povolen': 'Entry allowed for cyclists',\n",
    "        'Jízda cyklistů v protisměru - E12': 'Cyclists riding in the opposite direction',\n",
    "        'Zákaz vjezdu všech motorových vozidel - B11': 'No entry for all motor vehicles',\n",
    "        'Stezka pro chodce a cyklisty (nedělená) - C9': 'Path for pedestrians and cyclists (unseparated)', \n",
    "        'Úsek byl zrušen': 'The section was canceled',\n",
    "        'Stezka pro chodce s povoleným vjezdem cyklistů': 'Pedestrian path with cyclists allowed',\n",
    "        'Přejezd pro cyklisty': 'Bicycle crossing',\n",
    "        'Jízda cyklistů v protisměru (jízdní pruh)': 'Bike path in the opposite direction (lane)',\n",
    "        'Stezka pro chodce a cyklisty (dělená) - C10': 'Path for pedestrians and cyclists (separated)',\n",
    "        'Ochranný jízdní pruh pro cyklisty': 'Protective lane for cyclists', \n",
    "        'Stezka pro cyklisty - C8': 'Bike path',\n",
    "        'Vjezd cyklistům zakázán': 'Prohibited entry for cyclists', \n",
    "        'Vyhrazený pruh pro taxi, cyklo, bus': 'Reserved lane for taxi, bicycle, bus',\n",
    "        'Ostatní': 'others'\n",
    "}"
   ]
  },
  {
   "cell_type": "code",
   "execution_count": 108,
   "id": "047f5275",
   "metadata": {},
   "outputs": [],
   "source": [
    "cycling_infra_columns_renaming = {\n",
    "    'delka': 'length',\n",
    "    'typ_opatre': 'type'\n",
    "}"
   ]
  },
  {
   "cell_type": "code",
   "execution_count": 109,
   "id": "c32a0dc6",
   "metadata": {},
   "outputs": [
    {
     "data": {
      "text/html": [
       "<div>\n",
       "<style scoped>\n",
       "    .dataframe tbody tr th:only-of-type {\n",
       "        vertical-align: middle;\n",
       "    }\n",
       "\n",
       "    .dataframe tbody tr th {\n",
       "        vertical-align: top;\n",
       "    }\n",
       "\n",
       "    .dataframe thead th {\n",
       "        text-align: right;\n",
       "    }\n",
       "</style>\n",
       "<table border=\"1\" class=\"dataframe\">\n",
       "  <thead>\n",
       "    <tr style=\"text-align: right;\">\n",
       "      <th></th>\n",
       "      <th>ObjectId</th>\n",
       "      <th>ogcfid</th>\n",
       "      <th>type</th>\n",
       "      <th>rok_realiz</th>\n",
       "      <th>length</th>\n",
       "      <th>datum_expo</th>\n",
       "      <th>GlobalID</th>\n",
       "      <th>SHAPE_Leng</th>\n",
       "      <th>geometry</th>\n",
       "    </tr>\n",
       "  </thead>\n",
       "  <tbody>\n",
       "    <tr>\n",
       "      <th>435</th>\n",
       "      <td>436</td>\n",
       "      <td>66</td>\n",
       "      <td>others</td>\n",
       "      <td>2007.0</td>\n",
       "      <td>36.669998</td>\n",
       "      <td>2022-11-04</td>\n",
       "      <td>{15EC0643-8994-4D89-8184-55EE2983E0C4}</td>\n",
       "      <td>0.000496</td>\n",
       "      <td>LINESTRING (16.57474 49.17755, 16.57511 49.17750, 16.57523 49.17748)</td>\n",
       "    </tr>\n",
       "    <tr>\n",
       "      <th>489</th>\n",
       "      <td>490</td>\n",
       "      <td>87</td>\n",
       "      <td>others</td>\n",
       "      <td>2014.0</td>\n",
       "      <td>46.570000</td>\n",
       "      <td>2022-11-04</td>\n",
       "      <td>{B980886D-91B4-4E23-B6A9-AED0EA120A0B}</td>\n",
       "      <td>0.000422</td>\n",
       "      <td>LINESTRING (16.59511 49.18430, 16.59512 49.18438, 16.59518 49.18471)</td>\n",
       "    </tr>\n",
       "    <tr>\n",
       "      <th>566</th>\n",
       "      <td>567</td>\n",
       "      <td>90</td>\n",
       "      <td>others</td>\n",
       "      <td>2014.0</td>\n",
       "      <td>31.910000</td>\n",
       "      <td>2022-11-04</td>\n",
       "      <td>{7030E6BF-F6B3-4CAF-A792-F3B2D6EF9D8B}</td>\n",
       "      <td>0.000289</td>\n",
       "      <td>LINESTRING (16.59514 49.18449, 16.59512 49.18438, 16.59511 49.18430, 16.59509 49.18421)</td>\n",
       "    </tr>\n",
       "  </tbody>\n",
       "</table>\n",
       "</div>"
      ],
      "text/plain": [
       "     ObjectId  ogcfid    type  rok_realiz     length  datum_expo  \\\n",
       "435       436      66  others      2007.0  36.669998  2022-11-04   \n",
       "489       490      87  others      2014.0  46.570000  2022-11-04   \n",
       "566       567      90  others      2014.0  31.910000  2022-11-04   \n",
       "\n",
       "                                   GlobalID  SHAPE_Leng  \\\n",
       "435  {15EC0643-8994-4D89-8184-55EE2983E0C4}    0.000496   \n",
       "489  {B980886D-91B4-4E23-B6A9-AED0EA120A0B}    0.000422   \n",
       "566  {7030E6BF-F6B3-4CAF-A792-F3B2D6EF9D8B}    0.000289   \n",
       "\n",
       "                                                                                    geometry  \n",
       "435                     LINESTRING (16.57474 49.17755, 16.57511 49.17750, 16.57523 49.17748)  \n",
       "489                     LINESTRING (16.59511 49.18430, 16.59512 49.18438, 16.59518 49.18471)  \n",
       "566  LINESTRING (16.59514 49.18449, 16.59512 49.18438, 16.59511 49.18430, 16.59509 49.18421)  "
      ]
     },
     "execution_count": 109,
     "metadata": {},
     "output_type": "execute_result"
    }
   ],
   "source": [
    "cycling_infra_dfs = {}\n",
    "cycling_infrastructure = cycling_infrastructure.rename(columns=cycling_infra_columns_renaming).replace(cycling_infrastructure_translation_table)\n",
    "for value in cycling_infrastructure_translation_table.values():\n",
    "    cycling_infra_dfs[value] = cycling_infrastructure.loc[cycling_infrastructure['type'] == value]\n",
    "\n",
    "cycling_infra_dfs['others'].head()"
   ]
  },
  {
   "cell_type": "code",
   "execution_count": 110,
   "id": "ebb565be",
   "metadata": {},
   "outputs": [
    {
     "name": "stderr",
     "output_type": "stream",
     "text": [
      "/home/kbulkova/.local/lib/python3.9/site-packages/geopandas/io/file.py:362: FutureWarning: pandas.Int64Index is deprecated and will be removed from pandas in a future version. Use pandas.Index with the appropriate dtype instead.\n",
      "  pd.Int64Index,\n",
      "/home/kbulkova/.local/lib/python3.9/site-packages/geopandas/io/file.py:362: FutureWarning: pandas.Int64Index is deprecated and will be removed from pandas in a future version. Use pandas.Index with the appropriate dtype instead.\n",
      "  pd.Int64Index,\n",
      "/home/kbulkova/.local/lib/python3.9/site-packages/geopandas/io/file.py:362: FutureWarning: pandas.Int64Index is deprecated and will be removed from pandas in a future version. Use pandas.Index with the appropriate dtype instead.\n",
      "  pd.Int64Index,\n",
      "/home/kbulkova/.local/lib/python3.9/site-packages/geopandas/io/file.py:362: FutureWarning: pandas.Int64Index is deprecated and will be removed from pandas in a future version. Use pandas.Index with the appropriate dtype instead.\n",
      "  pd.Int64Index,\n",
      "/home/kbulkova/.local/lib/python3.9/site-packages/geopandas/io/file.py:362: FutureWarning: pandas.Int64Index is deprecated and will be removed from pandas in a future version. Use pandas.Index with the appropriate dtype instead.\n",
      "  pd.Int64Index,\n",
      "/home/kbulkova/.local/lib/python3.9/site-packages/geopandas/io/file.py:362: FutureWarning: pandas.Int64Index is deprecated and will be removed from pandas in a future version. Use pandas.Index with the appropriate dtype instead.\n",
      "  pd.Int64Index,\n",
      "/home/kbulkova/.local/lib/python3.9/site-packages/geopandas/io/file.py:362: FutureWarning: pandas.Int64Index is deprecated and will be removed from pandas in a future version. Use pandas.Index with the appropriate dtype instead.\n",
      "  pd.Int64Index,\n",
      "/home/kbulkova/.local/lib/python3.9/site-packages/geopandas/io/file.py:362: FutureWarning: pandas.Int64Index is deprecated and will be removed from pandas in a future version. Use pandas.Index with the appropriate dtype instead.\n",
      "  pd.Int64Index,\n",
      "/home/kbulkova/.local/lib/python3.9/site-packages/geopandas/io/file.py:362: FutureWarning: pandas.Int64Index is deprecated and will be removed from pandas in a future version. Use pandas.Index with the appropriate dtype instead.\n",
      "  pd.Int64Index,\n",
      "/home/kbulkova/.local/lib/python3.9/site-packages/geopandas/io/file.py:362: FutureWarning: pandas.Int64Index is deprecated and will be removed from pandas in a future version. Use pandas.Index with the appropriate dtype instead.\n",
      "  pd.Int64Index,\n",
      "/home/kbulkova/.local/lib/python3.9/site-packages/geopandas/io/file.py:362: FutureWarning: pandas.Int64Index is deprecated and will be removed from pandas in a future version. Use pandas.Index with the appropriate dtype instead.\n",
      "  pd.Int64Index,\n",
      "/home/kbulkova/.local/lib/python3.9/site-packages/geopandas/io/file.py:362: FutureWarning: pandas.Int64Index is deprecated and will be removed from pandas in a future version. Use pandas.Index with the appropriate dtype instead.\n",
      "  pd.Int64Index,\n",
      "/home/kbulkova/.local/lib/python3.9/site-packages/geopandas/io/file.py:362: FutureWarning: pandas.Int64Index is deprecated and will be removed from pandas in a future version. Use pandas.Index with the appropriate dtype instead.\n",
      "  pd.Int64Index,\n",
      "/home/kbulkova/.local/lib/python3.9/site-packages/geopandas/io/file.py:362: FutureWarning: pandas.Int64Index is deprecated and will be removed from pandas in a future version. Use pandas.Index with the appropriate dtype instead.\n",
      "  pd.Int64Index,\n",
      "/home/kbulkova/.local/lib/python3.9/site-packages/geopandas/io/file.py:362: FutureWarning: pandas.Int64Index is deprecated and will be removed from pandas in a future version. Use pandas.Index with the appropriate dtype instead.\n",
      "  pd.Int64Index,\n",
      "/home/kbulkova/.local/lib/python3.9/site-packages/geopandas/io/file.py:362: FutureWarning: pandas.Int64Index is deprecated and will be removed from pandas in a future version. Use pandas.Index with the appropriate dtype instead.\n",
      "  pd.Int64Index,\n"
     ]
    }
   ],
   "source": [
    "cycl_shp_prefix = \"sources/shapefiles/cycling_measures\"    \n",
    "for key, value in cycling_infra_dfs.items():\n",
    "    value.to_file(f\"{cycl_shp_prefix}/{key.title().replace(' ', '').replace(',', '_')}.shp.zip\", driver='ESRI Shapefile')"
   ]
  },
  {
   "cell_type": "code",
   "execution_count": 111,
   "id": "d7c41428",
   "metadata": {},
   "outputs": [],
   "source": [
    "street_slopes = gpd.read_file(\"sources/raw/street_slopes.zip\")"
   ]
  },
  {
   "cell_type": "code",
   "execution_count": 112,
   "id": "0fdf96f3",
   "metadata": {},
   "outputs": [],
   "source": [
    "# Fix incorrect data -> 141% slope in one place actually has only 4% slope (confirmed with mapy.cz)\n",
    "street_slopes['slope'].mask(street_slopes['slope'] == 141.61761475, 4 , inplace=True ) # beware the float representation\n",
    "\n",
    "# split the data 0-5, 5-10, 10-20, 20+\n",
    "\n",
    "slope_dfs = {}\n",
    "\n",
    "slope_dfs['min'] = street_slopes.loc[street_slopes['slope'] <= 5]\n",
    "slope_dfs['medium'] = street_slopes.loc[(street_slopes['slope'] > 5) & (street_slopes['slope'] <= 10)]\n",
    "slope_dfs['dangerous'] = street_slopes.loc[(street_slopes['slope'] > 10) & (street_slopes['slope'] <= 20)]\n",
    "slope_dfs['extreme'] = street_slopes.loc[street_slopes['slope'] > 20]\n",
    "\n",
    "\n"
   ]
  },
  {
   "cell_type": "code",
   "execution_count": 113,
   "id": "e9e9e01c",
   "metadata": {},
   "outputs": [
    {
     "name": "stderr",
     "output_type": "stream",
     "text": [
      "/home/kbulkova/.local/lib/python3.9/site-packages/geopandas/io/file.py:362: FutureWarning: pandas.Int64Index is deprecated and will be removed from pandas in a future version. Use pandas.Index with the appropriate dtype instead.\n",
      "  pd.Int64Index,\n",
      "/home/kbulkova/.local/lib/python3.9/site-packages/geopandas/io/file.py:362: FutureWarning: pandas.Int64Index is deprecated and will be removed from pandas in a future version. Use pandas.Index with the appropriate dtype instead.\n",
      "  pd.Int64Index,\n",
      "/home/kbulkova/.local/lib/python3.9/site-packages/geopandas/io/file.py:362: FutureWarning: pandas.Int64Index is deprecated and will be removed from pandas in a future version. Use pandas.Index with the appropriate dtype instead.\n",
      "  pd.Int64Index,\n",
      "/home/kbulkova/.local/lib/python3.9/site-packages/geopandas/io/file.py:362: FutureWarning: pandas.Int64Index is deprecated and will be removed from pandas in a future version. Use pandas.Index with the appropriate dtype instead.\n",
      "  pd.Int64Index,\n"
     ]
    }
   ],
   "source": [
    "slopes_shp_prefix = \"sources/shapefiles/street_slopes\"    \n",
    "for key, value in slope_dfs.items():\n",
    "    value.to_file(f\"{slopes_shp_prefix}/{key.title()}.shp.zip\", driver='ESRI Shapefile')"
   ]
  },
  {
   "cell_type": "code",
   "execution_count": null,
   "id": "75342bc8",
   "metadata": {},
   "outputs": [],
   "source": []
  },
  {
   "cell_type": "code",
   "execution_count": null,
   "id": "f7091902",
   "metadata": {},
   "outputs": [],
   "source": []
  },
  {
   "cell_type": "code",
   "execution_count": null,
   "id": "340bc62c",
   "metadata": {},
   "outputs": [],
   "source": []
  },
  {
   "cell_type": "code",
   "execution_count": null,
   "id": "763e5e62",
   "metadata": {},
   "outputs": [],
   "source": []
  },
  {
   "cell_type": "code",
   "execution_count": null,
   "id": "9d3297c8",
   "metadata": {},
   "outputs": [],
   "source": []
  }
 ],
 "metadata": {
  "kernelspec": {
   "display_name": "Python 3 (ipykernel)",
   "language": "python",
   "name": "python3"
  },
  "language_info": {
   "codemirror_mode": {
    "name": "ipython",
    "version": 3
   },
   "file_extension": ".py",
   "mimetype": "text/x-python",
   "name": "python",
   "nbconvert_exporter": "python",
   "pygments_lexer": "ipython3",
   "version": "3.9.15"
  }
 },
 "nbformat": 4,
 "nbformat_minor": 5
}
